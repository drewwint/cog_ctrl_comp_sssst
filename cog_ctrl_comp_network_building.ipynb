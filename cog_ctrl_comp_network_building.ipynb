{
  "cells": [
    {
      "cell_type": "markdown",
      "metadata": {
        "id": "view-in-github",
        "colab_type": "text"
      },
      "source": [
        "<a href=\"https://colab.research.google.com/github/drewwint/cog_ctrl_comp_sssst/blob/main/cog_ctrl_comp_network_building.ipynb\" target=\"_parent\"><img src=\"https://colab.research.google.com/assets/colab-badge.svg\" alt=\"Open In Colab\"/></a>"
      ]
    },
    {
      "cell_type": "markdown",
      "id": "b0a4b50b-cf3d-4680-9010-9ea86064b2b7",
      "metadata": {
        "editable": true,
        "tags": [],
        "id": "b0a4b50b-cf3d-4680-9010-9ea86064b2b7"
      },
      "source": [
        "(probabilistic_networks)=\n",
        "# Creating and manipulating networks of probabilistic nodes"
      ]
    },
    {
      "cell_type": "markdown",
      "id": "e368e07c-2dbb-47df-bf93-f2b8ec3a7e5b",
      "metadata": {
        "editable": true,
        "tags": [],
        "id": "e368e07c-2dbb-47df-bf93-f2b8ec3a7e5b"
      },
      "source": [
        "[![Open In Colab](https://colab.research.google.com/assets/colab-badge.svg)](https://colab.research.google.com/github/ComputationalPsychiatry/pyhgf/blob/master/docs/source/notebooks/0.2-Creating_networks.ipynb)"
      ]
    },
    {
      "cell_type": "code",
      "execution_count": null,
      "id": "93c52124-b1b7-4688-bac6-3886c86b9352",
      "metadata": {
        "editable": true,
        "execution": {
          "iopub.execute_input": "2025-01-10T13:53:43.925140Z",
          "iopub.status.busy": "2025-01-10T13:53:43.924750Z",
          "iopub.status.idle": "2025-01-10T13:53:43.929339Z",
          "shell.execute_reply": "2025-01-10T13:53:43.928687Z"
        },
        "tags": [],
        "id": "93c52124-b1b7-4688-bac6-3886c86b9352"
      },
      "outputs": [],
      "source": [
        "import sys\n",
        "from IPython.utils import io\n",
        "if 'google.colab' in sys.modules:\n",
        "\n",
        "  with io.capture_output() as captured:\n",
        "      ! pip install pyhgf watermark"
      ]
    },
    {
      "cell_type": "code",
      "execution_count": null,
      "id": "81a63672",
      "metadata": {
        "editable": true,
        "execution": {
          "iopub.execute_input": "2025-01-10T13:53:43.932303Z",
          "iopub.status.busy": "2025-01-10T13:53:43.931695Z",
          "iopub.status.idle": "2025-01-10T13:53:45.213862Z",
          "shell.execute_reply": "2025-01-10T13:53:45.212844Z"
        },
        "tags": [],
        "id": "81a63672"
      },
      "outputs": [],
      "source": [
        "import matplotlib.pyplot as plt\n",
        "import numpy as np\n",
        "import seaborn as sns\n",
        "from pyhgf.model import Network, HGF\n",
        "from pyhgf.typing import AdjacencyLists\n",
        "\n",
        "plt.rcParams[\"figure.constrained_layout.use\"] = True"
      ]
    },
    {
      "cell_type": "code",
      "source": [
        "ssst_hgf_control_decision_model = (\n",
        "    Network()\n",
        "    .add_nodes(n_nodes=2)  # Node 0: cognitive capacity, Node 1: cognitive control                #0 and #1\n",
        "\n",
        "    # Add Trial Type Node\n",
        "    .add_nodes(n_nodes=1)  # Node 2: Trial Type (Passive = 0, Go = 1, Selective = 2)                     #2\n",
        "\n",
        "    # latent states of input nodes\n",
        "    .add_nodes(value_children=[0])    # Node 0 latent state of resourse availability                     #3\n",
        "    .add_nodes(value_children=[1])  # Node 1 latent state of cognitive load                         #4\n",
        "\n",
        "    # coupling between latent states\n",
        "    .add_nodes(value_children=[3, 4])  # Node 0 influenced by Node 1 (decision to allocate control)      #5\n",
        "\n",
        "    # autoregressive terms on latent states\n",
        "    .add_nodes(value_children=[3,3]) # prior resources influencing current resources                     #6\n",
        "    .add_nodes(value_children=[4,4]) # prior cognitive load influencing current cognitive load           #7\n",
        "    .add_nodes(value_children=[5,5]) # prior decision to allocate control influencing current decision   #8\n",
        "\n",
        "    # Add Influence of Trial Type on Cognitive Load, resources, and decision from prior to current trial\n",
        "    .add_nodes(value_children=[6, 2])  # Node 7 influenced by Node 2 (Trial Type)                        #9\n",
        "    .add_nodes(value_children=[7, 2])  # Node 8 influenced by Node 2 (Trial Type)                        #10\n",
        "    .add_nodes(value_children=[8, 2])  # Node 9 influenced by Node 2 (Trial Type)                        #11\n",
        "\n",
        "    # Volatility in Cognitive Load,\n",
        "    .add_nodes(volatility_children=[3]) # Node 3 Volatility in resources                                 #11\n",
        "    .add_nodes(volatility_children=[4]) # Node 4 Volatility in Cognitive Load                            #12\n",
        "    .add_nodes(volatility_children=[5]) # Node 5 uncertainty in decision to allocate control             #13\n",
        "\n",
        ")\n",
        "\n",
        "ssst_hgf_control_decision_model.plot_network()\n",
        "\n"
      ],
      "metadata": {
        "id": "byjpgu1U6S7l",
        "outputId": "f63d7905-d365-4136-a083-f0d4ba042691",
        "colab": {
          "base_uri": "https://localhost:8080/",
          "height": 475
        }
      },
      "id": "byjpgu1U6S7l",
      "execution_count": null,
      "outputs": [
        {
          "output_type": "execute_result",
          "data": {
            "image/svg+xml": "<?xml version=\"1.0\" encoding=\"UTF-8\" standalone=\"no\"?>\n<!DOCTYPE svg PUBLIC \"-//W3C//DTD SVG 1.1//EN\"\n \"http://www.w3.org/Graphics/SVG/1.1/DTD/svg11.dtd\">\n<!-- Generated by graphviz version 2.43.0 (0)\n -->\n<!-- Title: hgf&#45;nodes Pages: 1 -->\n<svg width=\"318pt\" height=\"341pt\"\n viewBox=\"0.00 0.00 318.50 340.99\" xmlns=\"http://www.w3.org/2000/svg\" xmlns:xlink=\"http://www.w3.org/1999/xlink\">\n<g id=\"graph0\" class=\"graph\" transform=\"scale(1 1) rotate(0) translate(4 336.99)\">\n<title>hgf&#45;nodes</title>\n<polygon fill=\"white\" stroke=\"transparent\" points=\"-4,4 -4,-336.99 314.5,-336.99 314.5,4 -4,4\"/>\n<!-- x_0 -->\n<g id=\"node1\" class=\"node\">\n<title>x_0</title>\n<ellipse fill=\"lightgrey\" stroke=\"black\" cx=\"209\" cy=\"-18\" rx=\"18\" ry=\"18\"/>\n<text text-anchor=\"middle\" x=\"209\" y=\"-14.3\" font-family=\"Times,serif\" font-size=\"14.00\">0</text>\n</g>\n<!-- x_1 -->\n<g id=\"node2\" class=\"node\">\n<title>x_1</title>\n<ellipse fill=\"lightgrey\" stroke=\"black\" cx=\"73\" cy=\"-18\" rx=\"18\" ry=\"18\"/>\n<text text-anchor=\"middle\" x=\"73\" y=\"-14.3\" font-family=\"Times,serif\" font-size=\"14.00\">1</text>\n</g>\n<!-- x_2 -->\n<g id=\"node3\" class=\"node\">\n<title>x_2</title>\n<ellipse fill=\"lightgrey\" stroke=\"black\" cx=\"72\" cy=\"-163.5\" rx=\"18\" ry=\"18\"/>\n<text text-anchor=\"middle\" x=\"72\" y=\"-159.8\" font-family=\"Times,serif\" font-size=\"14.00\">2</text>\n</g>\n<!-- x_3 -->\n<g id=\"node4\" class=\"node\">\n<title>x_3</title>\n<ellipse fill=\"none\" stroke=\"black\" cx=\"209\" cy=\"-90\" rx=\"18\" ry=\"18\"/>\n<text text-anchor=\"middle\" x=\"209\" y=\"-86.3\" font-family=\"Times,serif\" font-size=\"14.00\">3</text>\n</g>\n<!-- x_3&#45;&gt;x_0 -->\n<g id=\"edge1\" class=\"edge\">\n<title>x_3&#45;&gt;x_0</title>\n<path fill=\"none\" stroke=\"black\" d=\"M209,-71.7C209,-63.98 209,-54.71 209,-46.11\"/>\n<polygon fill=\"black\" stroke=\"black\" points=\"212.5,-46.1 209,-36.1 205.5,-46.1 212.5,-46.1\"/>\n</g>\n<!-- x_4 -->\n<g id=\"node5\" class=\"node\">\n<title>x_4</title>\n<ellipse fill=\"none\" stroke=\"black\" cx=\"73\" cy=\"-90\" rx=\"18\" ry=\"18\"/>\n<text text-anchor=\"middle\" x=\"73\" y=\"-86.3\" font-family=\"Times,serif\" font-size=\"14.00\">4</text>\n</g>\n<!-- x_4&#45;&gt;x_1 -->\n<g id=\"edge2\" class=\"edge\">\n<title>x_4&#45;&gt;x_1</title>\n<path fill=\"none\" stroke=\"black\" d=\"M73,-71.7C73,-63.98 73,-54.71 73,-46.11\"/>\n<polygon fill=\"black\" stroke=\"black\" points=\"76.5,-46.1 73,-36.1 69.5,-46.1 76.5,-46.1\"/>\n</g>\n<!-- x_5 -->\n<g id=\"node6\" class=\"node\">\n<title>x_5</title>\n<ellipse fill=\"none\" stroke=\"black\" cx=\"236\" cy=\"-163.5\" rx=\"18\" ry=\"18\"/>\n<text text-anchor=\"middle\" x=\"236\" y=\"-159.8\" font-family=\"Times,serif\" font-size=\"14.00\">5</text>\n</g>\n<!-- x_5&#45;&gt;x_3 -->\n<g id=\"edge3\" class=\"edge\">\n<title>x_5&#45;&gt;x_3</title>\n<path fill=\"none\" stroke=\"black\" d=\"M229.87,-146.27C226.56,-137.5 222.39,-126.46 218.65,-116.56\"/>\n<polygon fill=\"black\" stroke=\"black\" points=\"221.91,-115.28 215.1,-107.16 215.36,-117.75 221.91,-115.28\"/>\n</g>\n<!-- x_5&#45;&gt;x_4 -->\n<g id=\"edge4\" class=\"edge\">\n<title>x_5&#45;&gt;x_4</title>\n<path fill=\"none\" stroke=\"black\" d=\"M222.09,-152.07C217.99,-149.25 213.42,-146.34 209,-144 172.68,-124.81 127.83,-108.67 99.81,-99.42\"/>\n<polygon fill=\"black\" stroke=\"black\" points=\"100.89,-96.09 90.3,-96.32 98.73,-102.74 100.89,-96.09\"/>\n</g>\n<!-- x_6 -->\n<g id=\"node7\" class=\"node\">\n<title>x_6</title>\n<ellipse fill=\"none\" stroke=\"black\" cx=\"182\" cy=\"-163.5\" rx=\"18\" ry=\"18\"/>\n<text text-anchor=\"middle\" x=\"182\" y=\"-159.8\" font-family=\"Times,serif\" font-size=\"14.00\">6</text>\n</g>\n<!-- x_6&#45;&gt;x_3 -->\n<g id=\"edge5\" class=\"edge\">\n<title>x_6&#45;&gt;x_3</title>\n<path fill=\"none\" stroke=\"black\" d=\"M182.66,-145.19C185.23,-135.79 189.51,-124.06 194,-113.91\"/>\n<polygon fill=\"black\" stroke=\"black\" points=\"197.2,-115.34 198.33,-104.8 190.88,-112.33 197.2,-115.34\"/>\n</g>\n<!-- x_6&#45;&gt;x_3 -->\n<g id=\"edge6\" class=\"edge\">\n<title>x_6&#45;&gt;x_3</title>\n<path fill=\"none\" stroke=\"black\" d=\"M192.66,-148.71C197.18,-139.92 201.96,-128.23 205.48,-117.67\"/>\n<polygon fill=\"black\" stroke=\"black\" points=\"208.85,-118.61 208.42,-108.02 202.16,-116.57 208.85,-118.61\"/>\n</g>\n<!-- x_7 -->\n<g id=\"node8\" class=\"node\">\n<title>x_7</title>\n<ellipse fill=\"none\" stroke=\"black\" cx=\"18\" cy=\"-163.5\" rx=\"18\" ry=\"18\"/>\n<text text-anchor=\"middle\" x=\"18\" y=\"-159.8\" font-family=\"Times,serif\" font-size=\"14.00\">7</text>\n</g>\n<!-- x_7&#45;&gt;x_4 -->\n<g id=\"edge7\" class=\"edge\">\n<title>x_7&#45;&gt;x_4</title>\n<path fill=\"none\" stroke=\"black\" d=\"M24.49,-146.63C31.58,-135.77 42.59,-121.33 52.45,-109.88\"/>\n<polygon fill=\"black\" stroke=\"black\" points=\"55.29,-111.95 59.35,-102.16 50.08,-107.28 55.29,-111.95\"/>\n</g>\n<!-- x_7&#45;&gt;x_4 -->\n<g id=\"edge8\" class=\"edge\">\n<title>x_7&#45;&gt;x_4</title>\n<path fill=\"none\" stroke=\"black\" d=\"M31.66,-151.33C40.66,-141.72 52.04,-127.52 60.73,-115.31\"/>\n<polygon fill=\"black\" stroke=\"black\" points=\"63.75,-117.1 66.51,-106.87 57.98,-113.14 63.75,-117.1\"/>\n</g>\n<!-- x_8 -->\n<g id=\"node9\" class=\"node\">\n<title>x_8</title>\n<ellipse fill=\"none\" stroke=\"black\" cx=\"236\" cy=\"-238.49\" rx=\"18\" ry=\"18\"/>\n<text text-anchor=\"middle\" x=\"236\" y=\"-234.79\" font-family=\"Times,serif\" font-size=\"14.00\">8</text>\n</g>\n<!-- x_8&#45;&gt;x_5 -->\n<g id=\"edge9\" class=\"edge\">\n<title>x_8&#45;&gt;x_5</title>\n<path fill=\"none\" stroke=\"black\" d=\"M230.28,-221.29C229.26,-212.32 229,-200.94 229.49,-190.72\"/>\n<polygon fill=\"black\" stroke=\"black\" points=\"232.99,-190.9 230.29,-180.65 226.01,-190.35 232.99,-190.9\"/>\n</g>\n<!-- x_8&#45;&gt;x_5 -->\n<g id=\"edge10\" class=\"edge\">\n<title>x_8&#45;&gt;x_5</title>\n<path fill=\"none\" stroke=\"black\" d=\"M241.72,-221.29C242.74,-212.32 243,-200.94 242.51,-190.72\"/>\n<polygon fill=\"black\" stroke=\"black\" points=\"245.99,-190.35 241.71,-180.65 239.01,-190.9 245.99,-190.35\"/>\n</g>\n<!-- x_9 -->\n<g id=\"node10\" class=\"node\">\n<title>x_9</title>\n<ellipse fill=\"none\" stroke=\"black\" cx=\"124\" cy=\"-238.49\" rx=\"18\" ry=\"18\"/>\n<text text-anchor=\"middle\" x=\"124\" y=\"-234.79\" font-family=\"Times,serif\" font-size=\"14.00\">9</text>\n</g>\n<!-- x_9&#45;&gt;x_2 -->\n<g id=\"edge11\" class=\"edge\">\n<title>x_9&#45;&gt;x_2</title>\n<path fill=\"none\" stroke=\"black\" d=\"M113.97,-223.42C106.56,-213.02 96.33,-198.65 87.82,-186.71\"/>\n<polygon fill=\"black\" stroke=\"black\" points=\"90.65,-184.64 82,-178.53 84.95,-188.71 90.65,-184.64\"/>\n</g>\n<!-- x_9&#45;&gt;x_6 -->\n<g id=\"edge12\" class=\"edge\">\n<title>x_9&#45;&gt;x_6</title>\n<path fill=\"none\" stroke=\"black\" d=\"M134.91,-223.76C143.33,-213.16 155.15,-198.29 164.84,-186.1\"/>\n<polygon fill=\"black\" stroke=\"black\" points=\"167.66,-188.17 171.14,-178.17 162.18,-183.82 167.66,-188.17\"/>\n</g>\n<!-- x_10 -->\n<g id=\"node11\" class=\"node\">\n<title>x_10</title>\n<ellipse fill=\"none\" stroke=\"black\" cx=\"20\" cy=\"-238.49\" rx=\"19.5\" ry=\"19.5\"/>\n<text text-anchor=\"middle\" x=\"20\" y=\"-234.79\" font-family=\"Times,serif\" font-size=\"14.00\">10</text>\n</g>\n<!-- x_10&#45;&gt;x_2 -->\n<g id=\"edge13\" class=\"edge\">\n<title>x_10&#45;&gt;x_2</title>\n<path fill=\"none\" stroke=\"black\" d=\"M31.03,-222.01C38.25,-211.88 47.81,-198.46 55.88,-187.13\"/>\n<polygon fill=\"black\" stroke=\"black\" points=\"58.74,-189.14 61.7,-178.96 53.04,-185.08 58.74,-189.14\"/>\n</g>\n<!-- x_10&#45;&gt;x_7 -->\n<g id=\"edge14\" class=\"edge\">\n<title>x_10&#45;&gt;x_7</title>\n<path fill=\"none\" stroke=\"black\" d=\"M19.48,-218.7C19.26,-210.65 19,-201.08 18.76,-192.25\"/>\n<polygon fill=\"black\" stroke=\"black\" points=\"22.25,-191.88 18.48,-181.98 15.25,-192.07 22.25,-191.88\"/>\n</g>\n<!-- x_11 -->\n<g id=\"node12\" class=\"node\">\n<title>x_11</title>\n<ellipse fill=\"none\" stroke=\"black\" cx=\"155\" cy=\"-313.49\" rx=\"19.5\" ry=\"19.5\"/>\n<text text-anchor=\"middle\" x=\"155\" y=\"-309.79\" font-family=\"Times,serif\" font-size=\"14.00\">11</text>\n</g>\n<!-- x_11&#45;&gt;x_2 -->\n<g id=\"edge15\" class=\"edge\">\n<title>x_11&#45;&gt;x_2</title>\n<path fill=\"none\" stroke=\"black\" d=\"M139.4,-301.74C126.2,-291.85 107.78,-276.02 97,-257.99 84.78,-237.55 78.43,-211.08 75.19,-191.53\"/>\n<polygon fill=\"black\" stroke=\"black\" points=\"78.63,-190.84 73.7,-181.46 71.7,-191.86 78.63,-190.84\"/>\n</g>\n<!-- x_11&#45;&gt;x_8 -->\n<g id=\"edge16\" class=\"edge\">\n<title>x_11&#45;&gt;x_8</title>\n<path fill=\"none\" stroke=\"black\" d=\"M169.11,-299.78C181.96,-288.2 201.09,-270.96 215.6,-257.88\"/>\n<polygon fill=\"black\" stroke=\"black\" points=\"218.04,-260.4 223.12,-251.1 213.35,-255.2 218.04,-260.4\"/>\n</g>\n<!-- x_12 -->\n<g id=\"node13\" class=\"node\">\n<title>x_12</title>\n<ellipse fill=\"none\" stroke=\"black\" cx=\"291\" cy=\"-163.5\" rx=\"19.5\" ry=\"19.5\"/>\n<text text-anchor=\"middle\" x=\"291\" y=\"-159.8\" font-family=\"Times,serif\" font-size=\"14.00\">12</text>\n</g>\n<!-- x_12&#45;&gt;x_3 -->\n<g id=\"edge17\" class=\"edge\">\n<title>x_12&#45;&gt;x_3</title>\n<path fill=\"none\" stroke=\"gray\" stroke-dasharray=\"5,2\" d=\"M276.72,-150.04C263.43,-138.46 243.5,-121.08 228.7,-108.18\"/>\n<ellipse fill=\"gray\" stroke=\"gray\" cx=\"225.32\" cy=\"-105.23\" rx=\"4\" ry=\"4\"/>\n</g>\n<!-- x_13 -->\n<g id=\"node14\" class=\"node\">\n<title>x_13</title>\n<ellipse fill=\"none\" stroke=\"black\" cx=\"127\" cy=\"-163.5\" rx=\"19.5\" ry=\"19.5\"/>\n<text text-anchor=\"middle\" x=\"127\" y=\"-159.8\" font-family=\"Times,serif\" font-size=\"14.00\">13</text>\n</g>\n<!-- x_13&#45;&gt;x_4 -->\n<g id=\"edge18\" class=\"edge\">\n<title>x_13&#45;&gt;x_4</title>\n<path fill=\"none\" stroke=\"gray\" stroke-dasharray=\"5,2\" d=\"M115.55,-147.34C107.75,-137.02 97.34,-123.22 88.76,-111.87\"/>\n<ellipse fill=\"gray\" stroke=\"gray\" cx=\"86.11\" cy=\"-108.36\" rx=\"4\" ry=\"4\"/>\n</g>\n<!-- x_14 -->\n<g id=\"node15\" class=\"node\">\n<title>x_14</title>\n<ellipse fill=\"none\" stroke=\"black\" cx=\"181\" cy=\"-238.49\" rx=\"19.5\" ry=\"19.5\"/>\n<text text-anchor=\"middle\" x=\"181\" y=\"-234.79\" font-family=\"Times,serif\" font-size=\"14.00\">14</text>\n</g>\n<!-- x_14&#45;&gt;x_5 -->\n<g id=\"edge19\" class=\"edge\">\n<title>x_14&#45;&gt;x_5</title>\n<path fill=\"none\" stroke=\"gray\" stroke-dasharray=\"5,2\" d=\"M192.4,-222.37C200.5,-211.62 211.48,-197.05 220.39,-185.21\"/>\n<ellipse fill=\"gray\" stroke=\"gray\" cx=\"222.96\" cy=\"-181.81\" rx=\"4\" ry=\"4\"/>\n</g>\n</g>\n</svg>\n",
            "text/plain": [
              "<graphviz.sources.Source at 0x7c1be5b66090>"
            ]
          },
          "metadata": {},
          "execution_count": 7
        }
      ]
    },
    {
      "cell_type": "code",
      "source": [
        "ssst_hgf_control_decision_model = (\n",
        "    Network()\n",
        "    .add_nodes(n_nodes=2)  # Node 0: cognitive capacity, Node 1: cognitive load\n",
        "\n",
        "    # Trial Type Node\n",
        "    .add_nodes(n_nodes=1)  # Node 2: Trial Type (0 = Passive, 1 = Go, 2 = Select)\n",
        "\n",
        "    # Latent states of resource availability and cognitive load\n",
        "    .add_nodes(value_children=[0])  # Node 3: Latent Resource Availability\n",
        "    .add_nodes(value_children=[1])  # Node 4: Latent Cognitive Load\n",
        "\n",
        "    # Decision to allocate control\n",
        "    .add_nodes(value_children=[3, 4])  # Node 5: Decision to allocate control\n",
        "\n",
        "    # Autoregressive updates (memory effects)\n",
        "    .add_nodes(value_children=[3,3])  # Node 6: Prior Resources → Current Resources\n",
        "    .add_nodes(value_children=[4,4])  # Node 7: Prior Load → Current Load\n",
        "    .add_nodes(value_children=[5,5])  # Node 8: Prior Control Decision → Current Decision\n",
        "\n",
        "    # Influence of Trial Type\n",
        "    .add_nodes(value_children=[6, 2])  # Node 9: Trial Type → Resource Availability\n",
        "    .add_nodes(value_children=[7, 2])  # Node 10: Trial Type → Cognitive Load\n",
        "    .add_nodes(value_children=[8, 2])  # Node 11: Trial Type → Decision to Allocate Control\n",
        "\n",
        "    # Volatility terms for dynamic updates\n",
        "    .add_nodes(volatility_children=[3])  # Node 12: Resource Availability Volatility\n",
        "    .add_nodes(volatility_children=[4])  # Node 13: Cognitive Load Volatility\n",
        "    .add_nodes(volatility_children=[5])  # Node 14: Decision Uncertainty\n",
        "\n",
        "    # NEW: Control Allocation Influences Future Resource Availability and Load\n",
        "    .add_nodes(value_children=[3, 5])  # Node 15: Control Allocation → Future Resources\n",
        "    .add_nodes(value_children=[4, 5])  # Node 16: Control Allocation → Future Cognitive Load\n",
        "\n",
        "    # Uncertainty for Measured Inputs\n",
        "    .add_nodes(volatility_children=[0])  # Node 17: Observation Noise in Cognitive Capacity\n",
        "    .add_nodes(volatility_children=[1])  # Node 18: Observation Noise in Cognitive Load\n",
        "\n",
        "    # Bias Toward/Against Control Allocation\n",
        "    .add_nodes(value_children=[5])  # Node 19: Bias in Control Allocation\n",
        "\n",
        "#     # New Node for Successful Control Allocation\n",
        "# .add_nodes(value_children=[5])  # Node 20: Successful Control Allocation (Influenced by Decision)\n",
        "# .add_nodes(value_children=[20, 0])  # Node 21: Resources Influence Success\n",
        "# .add_nodes(value_children=[20, 1])  # Node 22: Cognitive Load Influences Success\n",
        "# .add_nodes(value_children=[20, 2])  # Node 23: Trial Type Influences Success\n",
        ")\n",
        "ssst_hgf_control_decision_model.plot_network()"
      ],
      "metadata": {
        "id": "s7GpFTyV8Ps0",
        "outputId": "03148af8-ada3-4031-e33f-673d7aa110aa",
        "colab": {
          "base_uri": "https://localhost:8080/",
          "height": 479
        }
      },
      "id": "s7GpFTyV8Ps0",
      "execution_count": null,
      "outputs": [
        {
          "output_type": "execute_result",
          "data": {
            "image/svg+xml": "<?xml version=\"1.0\" encoding=\"UTF-8\" standalone=\"no\"?>\n<!DOCTYPE svg PUBLIC \"-//W3C//DTD SVG 1.1//EN\"\n \"http://www.w3.org/Graphics/SVG/1.1/DTD/svg11.dtd\">\n<!-- Generated by graphviz version 2.43.0 (0)\n -->\n<!-- Title: hgf&#45;nodes Pages: 1 -->\n<svg width=\"405pt\" height=\"344pt\"\n viewBox=\"0.00 0.00 405.50 343.99\" xmlns=\"http://www.w3.org/2000/svg\" xmlns:xlink=\"http://www.w3.org/1999/xlink\">\n<g id=\"graph0\" class=\"graph\" transform=\"scale(1 1) rotate(0) translate(4 339.99)\">\n<title>hgf&#45;nodes</title>\n<polygon fill=\"white\" stroke=\"transparent\" points=\"-4,4 -4,-339.99 401.5,-339.99 401.5,4 -4,4\"/>\n<!-- x_0 -->\n<g id=\"node1\" class=\"node\">\n<title>x_0</title>\n<ellipse fill=\"lightgrey\" stroke=\"black\" cx=\"151.5\" cy=\"-18\" rx=\"18\" ry=\"18\"/>\n<text text-anchor=\"middle\" x=\"151.5\" y=\"-14.3\" font-family=\"Times,serif\" font-size=\"14.00\">0</text>\n</g>\n<!-- x_1 -->\n<g id=\"node2\" class=\"node\">\n<title>x_1</title>\n<ellipse fill=\"lightgrey\" stroke=\"black\" cx=\"306.5\" cy=\"-18\" rx=\"18\" ry=\"18\"/>\n<text text-anchor=\"middle\" x=\"306.5\" y=\"-14.3\" font-family=\"Times,serif\" font-size=\"14.00\">1</text>\n</g>\n<!-- x_2 -->\n<g id=\"node3\" class=\"node\">\n<title>x_2</title>\n<ellipse fill=\"lightgrey\" stroke=\"black\" cx=\"325.5\" cy=\"-166.49\" rx=\"18\" ry=\"18\"/>\n<text text-anchor=\"middle\" x=\"325.5\" y=\"-162.79\" font-family=\"Times,serif\" font-size=\"14.00\">2</text>\n</g>\n<!-- x_3 -->\n<g id=\"node4\" class=\"node\">\n<title>x_3</title>\n<ellipse fill=\"none\" stroke=\"black\" cx=\"123.5\" cy=\"-91.5\" rx=\"18\" ry=\"18\"/>\n<text text-anchor=\"middle\" x=\"123.5\" y=\"-87.8\" font-family=\"Times,serif\" font-size=\"14.00\">3</text>\n</g>\n<!-- x_3&#45;&gt;x_0 -->\n<g id=\"edge1\" class=\"edge\">\n<title>x_3&#45;&gt;x_0</title>\n<path fill=\"none\" stroke=\"black\" d=\"M129.85,-74.27C133.29,-65.5 137.61,-54.46 141.49,-44.56\"/>\n<polygon fill=\"black\" stroke=\"black\" points=\"144.78,-45.75 145.17,-35.16 138.26,-43.19 144.78,-45.75\"/>\n</g>\n<!-- x_4 -->\n<g id=\"node5\" class=\"node\">\n<title>x_4</title>\n<ellipse fill=\"none\" stroke=\"black\" cx=\"279.5\" cy=\"-91.5\" rx=\"18\" ry=\"18\"/>\n<text text-anchor=\"middle\" x=\"279.5\" y=\"-87.8\" font-family=\"Times,serif\" font-size=\"14.00\">4</text>\n</g>\n<!-- x_4&#45;&gt;x_1 -->\n<g id=\"edge2\" class=\"edge\">\n<title>x_4&#45;&gt;x_1</title>\n<path fill=\"none\" stroke=\"black\" d=\"M285.62,-74.27C288.94,-65.5 293.11,-54.46 296.85,-44.56\"/>\n<polygon fill=\"black\" stroke=\"black\" points=\"300.14,-45.75 300.4,-35.16 293.59,-43.28 300.14,-45.75\"/>\n</g>\n<!-- x_5 -->\n<g id=\"node6\" class=\"node\">\n<title>x_5</title>\n<ellipse fill=\"none\" stroke=\"black\" cx=\"123.5\" cy=\"-166.49\" rx=\"18\" ry=\"18\"/>\n<text text-anchor=\"middle\" x=\"123.5\" y=\"-162.79\" font-family=\"Times,serif\" font-size=\"14.00\">5</text>\n</g>\n<!-- x_5&#45;&gt;x_3 -->\n<g id=\"edge3\" class=\"edge\">\n<title>x_5&#45;&gt;x_3</title>\n<path fill=\"none\" stroke=\"black\" d=\"M123.5,-148.2C123.5,-139.74 123.5,-129.37 123.5,-119.87\"/>\n<polygon fill=\"black\" stroke=\"black\" points=\"127,-119.67 123.5,-109.67 120,-119.67 127,-119.67\"/>\n</g>\n<!-- x_5&#45;&gt;x_4 -->\n<g id=\"edge4\" class=\"edge\">\n<title>x_5&#45;&gt;x_4</title>\n<path fill=\"none\" stroke=\"black\" d=\"M137.73,-154.96C141.76,-152.2 146.21,-149.34 150.5,-147 184.59,-128.36 226.38,-111.76 252.98,-101.91\"/>\n<polygon fill=\"black\" stroke=\"black\" points=\"254.52,-105.07 262.71,-98.36 252.12,-98.5 254.52,-105.07\"/>\n</g>\n<!-- x_6 -->\n<g id=\"node7\" class=\"node\">\n<title>x_6</title>\n<ellipse fill=\"none\" stroke=\"black\" cx=\"177.5\" cy=\"-166.49\" rx=\"18\" ry=\"18\"/>\n<text text-anchor=\"middle\" x=\"177.5\" y=\"-162.79\" font-family=\"Times,serif\" font-size=\"14.00\">6</text>\n</g>\n<!-- x_6&#45;&gt;x_3 -->\n<g id=\"edge5\" class=\"edge\">\n<title>x_6&#45;&gt;x_3</title>\n<path fill=\"none\" stroke=\"black\" d=\"M164,-154.09C155.13,-144.28 143.95,-129.78 135.43,-117.32\"/>\n<polygon fill=\"black\" stroke=\"black\" points=\"138.18,-115.13 129.76,-108.7 132.33,-118.98 138.18,-115.13\"/>\n</g>\n<!-- x_6&#45;&gt;x_3 -->\n<g id=\"edge6\" class=\"edge\">\n<title>x_6&#45;&gt;x_3</title>\n<path fill=\"none\" stroke=\"black\" d=\"M171.23,-149.29C164.29,-138.21 153.49,-123.46 143.79,-111.77\"/>\n<polygon fill=\"black\" stroke=\"black\" points=\"146.17,-109.18 136.99,-103.89 140.87,-113.75 146.17,-109.18\"/>\n</g>\n<!-- x_7 -->\n<g id=\"node8\" class=\"node\">\n<title>x_7</title>\n<ellipse fill=\"none\" stroke=\"black\" cx=\"379.5\" cy=\"-166.49\" rx=\"18\" ry=\"18\"/>\n<text text-anchor=\"middle\" x=\"379.5\" y=\"-162.79\" font-family=\"Times,serif\" font-size=\"14.00\">7</text>\n</g>\n<!-- x_7&#45;&gt;x_4 -->\n<g id=\"edge7\" class=\"edge\">\n<title>x_7&#45;&gt;x_4</title>\n<path fill=\"none\" stroke=\"black\" d=\"M363.53,-157.12C346.04,-146.08 318.47,-126.32 299.59,-111.55\"/>\n<polygon fill=\"black\" stroke=\"black\" points=\"301.59,-108.67 291.59,-105.17 297.22,-114.14 301.59,-108.67\"/>\n</g>\n<!-- x_7&#45;&gt;x_4 -->\n<g id=\"edge8\" class=\"edge\">\n<title>x_7&#45;&gt;x_4</title>\n<path fill=\"none\" stroke=\"black\" d=\"M367.35,-152.78C351.43,-139.76 323.84,-119.58 303.68,-106.21\"/>\n<polygon fill=\"black\" stroke=\"black\" points=\"305.58,-103.26 295.29,-100.76 301.77,-109.14 305.58,-103.26\"/>\n</g>\n<!-- x_8 -->\n<g id=\"node9\" class=\"node\">\n<title>x_8</title>\n<ellipse fill=\"none\" stroke=\"black\" cx=\"169.5\" cy=\"-241.49\" rx=\"18\" ry=\"18\"/>\n<text text-anchor=\"middle\" x=\"169.5\" y=\"-237.79\" font-family=\"Times,serif\" font-size=\"14.00\">8</text>\n</g>\n<!-- x_8&#45;&gt;x_5 -->\n<g id=\"edge9\" class=\"edge\">\n<title>x_8&#45;&gt;x_5</title>\n<path fill=\"none\" stroke=\"black\" d=\"M156.74,-228.44C149.12,-218.76 139.92,-204.83 132.95,-192.73\"/>\n<polygon fill=\"black\" stroke=\"black\" points=\"136,-191.02 128.11,-183.94 129.86,-194.39 136,-191.02\"/>\n</g>\n<!-- x_8&#45;&gt;x_5 -->\n<g id=\"edge10\" class=\"edge\">\n<title>x_8&#45;&gt;x_5</title>\n<path fill=\"none\" stroke=\"black\" d=\"M164.82,-223.93C159.25,-213.2 150.52,-199.16 142.39,-187.77\"/>\n<polygon fill=\"black\" stroke=\"black\" points=\"145.14,-185.6 136.36,-179.67 139.53,-189.78 145.14,-185.6\"/>\n</g>\n<!-- x_9 -->\n<g id=\"node10\" class=\"node\">\n<title>x_9</title>\n<ellipse fill=\"none\" stroke=\"black\" cx=\"279.5\" cy=\"-241.49\" rx=\"18\" ry=\"18\"/>\n<text text-anchor=\"middle\" x=\"279.5\" y=\"-237.79\" font-family=\"Times,serif\" font-size=\"14.00\">9</text>\n</g>\n<!-- x_9&#45;&gt;x_2 -->\n<g id=\"edge11\" class=\"edge\">\n<title>x_9&#45;&gt;x_2</title>\n<path fill=\"none\" stroke=\"black\" d=\"M288.81,-225.72C295.1,-215.73 303.55,-202.32 310.76,-190.89\"/>\n<polygon fill=\"black\" stroke=\"black\" points=\"313.83,-192.57 316.2,-182.24 307.91,-188.84 313.83,-192.57\"/>\n</g>\n<!-- x_9&#45;&gt;x_6 -->\n<g id=\"edge12\" class=\"edge\">\n<title>x_9&#45;&gt;x_6</title>\n<path fill=\"none\" stroke=\"black\" d=\"M265.32,-230.34C248.44,-218.26 220.03,-197.94 200.11,-183.68\"/>\n<polygon fill=\"black\" stroke=\"black\" points=\"202.06,-180.77 191.89,-177.79 197.98,-186.46 202.06,-180.77\"/>\n</g>\n<!-- x_10 -->\n<g id=\"node11\" class=\"node\">\n<title>x_10</title>\n<ellipse fill=\"none\" stroke=\"black\" cx=\"375.5\" cy=\"-241.49\" rx=\"19.5\" ry=\"19.5\"/>\n<text text-anchor=\"middle\" x=\"375.5\" y=\"-237.79\" font-family=\"Times,serif\" font-size=\"14.00\">10</text>\n</g>\n<!-- x_10&#45;&gt;x_2 -->\n<g id=\"edge13\" class=\"edge\">\n<title>x_10&#45;&gt;x_2</title>\n<path fill=\"none\" stroke=\"black\" d=\"M364.89,-225.01C358.02,-214.97 348.94,-201.71 341.23,-190.46\"/>\n<polygon fill=\"black\" stroke=\"black\" points=\"343.95,-188.23 335.41,-181.96 338.17,-192.19 343.95,-188.23\"/>\n</g>\n<!-- x_10&#45;&gt;x_7 -->\n<g id=\"edge14\" class=\"edge\">\n<title>x_10&#45;&gt;x_7</title>\n<path fill=\"none\" stroke=\"black\" d=\"M376.53,-221.69C376.98,-213.43 377.52,-203.58 378.02,-194.55\"/>\n<polygon fill=\"black\" stroke=\"black\" points=\"381.51,-194.66 378.57,-184.48 374.53,-194.28 381.51,-194.66\"/>\n</g>\n<!-- x_11 -->\n<g id=\"node12\" class=\"node\">\n<title>x_11</title>\n<ellipse fill=\"none\" stroke=\"black\" cx=\"252.5\" cy=\"-316.49\" rx=\"19.5\" ry=\"19.5\"/>\n<text text-anchor=\"middle\" x=\"252.5\" y=\"-312.79\" font-family=\"Times,serif\" font-size=\"14.00\">11</text>\n</g>\n<!-- x_11&#45;&gt;x_2 -->\n<g id=\"edge15\" class=\"edge\">\n<title>x_11&#45;&gt;x_2</title>\n<path fill=\"none\" stroke=\"black\" d=\"M267.76,-304.26C280.16,-294.29 297.08,-278.61 306.5,-260.99 317.5,-240.4 322.14,-214.15 324.1,-194.71\"/>\n<polygon fill=\"black\" stroke=\"black\" points=\"327.59,-194.95 324.93,-184.69 320.62,-194.37 327.59,-194.95\"/>\n</g>\n<!-- x_11&#45;&gt;x_8 -->\n<g id=\"edge16\" class=\"edge\">\n<title>x_11&#45;&gt;x_8</title>\n<path fill=\"none\" stroke=\"black\" d=\"M238.04,-302.77C224.87,-291.19 205.27,-273.95 190.4,-260.87\"/>\n<polygon fill=\"black\" stroke=\"black\" points=\"192.52,-258.07 182.7,-254.1 187.89,-263.33 192.52,-258.07\"/>\n</g>\n<!-- x_12 -->\n<g id=\"node13\" class=\"node\">\n<title>x_12</title>\n<ellipse fill=\"none\" stroke=\"black\" cx=\"68.5\" cy=\"-166.49\" rx=\"19.5\" ry=\"19.5\"/>\n<text text-anchor=\"middle\" x=\"68.5\" y=\"-162.79\" font-family=\"Times,serif\" font-size=\"14.00\">12</text>\n</g>\n<!-- x_12&#45;&gt;x_3 -->\n<g id=\"edge17\" class=\"edge\">\n<title>x_12&#45;&gt;x_3</title>\n<path fill=\"none\" stroke=\"gray\" stroke-dasharray=\"5,2\" d=\"M79.89,-150.37C88,-139.62 98.98,-125.05 107.89,-113.21\"/>\n<ellipse fill=\"gray\" stroke=\"gray\" cx=\"110.46\" cy=\"-109.81\" rx=\"4\" ry=\"4\"/>\n</g>\n<!-- x_13 -->\n<g id=\"node14\" class=\"node\">\n<title>x_13</title>\n<ellipse fill=\"none\" stroke=\"black\" cx=\"232.5\" cy=\"-166.49\" rx=\"19.5\" ry=\"19.5\"/>\n<text text-anchor=\"middle\" x=\"232.5\" y=\"-162.79\" font-family=\"Times,serif\" font-size=\"14.00\">13</text>\n</g>\n<!-- x_13&#45;&gt;x_4 -->\n<g id=\"edge18\" class=\"edge\">\n<title>x_13&#45;&gt;x_4</title>\n<path fill=\"none\" stroke=\"gray\" stroke-dasharray=\"5,2\" d=\"M242.7,-149.66C249.4,-139.24 258.27,-125.47 265.61,-114.06\"/>\n<ellipse fill=\"gray\" stroke=\"gray\" cx=\"267.8\" cy=\"-110.67\" rx=\"4\" ry=\"4\"/>\n</g>\n<!-- x_14 -->\n<g id=\"node15\" class=\"node\">\n<title>x_14</title>\n<ellipse fill=\"none\" stroke=\"black\" cx=\"76.5\" cy=\"-241.49\" rx=\"19.5\" ry=\"19.5\"/>\n<text text-anchor=\"middle\" x=\"76.5\" y=\"-237.79\" font-family=\"Times,serif\" font-size=\"14.00\">14</text>\n</g>\n<!-- x_14&#45;&gt;x_5 -->\n<g id=\"edge19\" class=\"edge\">\n<title>x_14&#45;&gt;x_5</title>\n<path fill=\"none\" stroke=\"gray\" stroke-dasharray=\"5,2\" d=\"M86.7,-224.65C93.4,-214.23 102.27,-200.47 109.61,-189.06\"/>\n<ellipse fill=\"gray\" stroke=\"gray\" cx=\"111.8\" cy=\"-185.67\" rx=\"4\" ry=\"4\"/>\n</g>\n<!-- x_15 -->\n<g id=\"node16\" class=\"node\">\n<title>x_15</title>\n<ellipse fill=\"none\" stroke=\"black\" cx=\"19.5\" cy=\"-241.49\" rx=\"19.5\" ry=\"19.5\"/>\n<text text-anchor=\"middle\" x=\"19.5\" y=\"-237.79\" font-family=\"Times,serif\" font-size=\"14.00\">15</text>\n</g>\n<!-- x_15&#45;&gt;x_3 -->\n<g id=\"edge20\" class=\"edge\">\n<title>x_15&#45;&gt;x_3</title>\n<path fill=\"none\" stroke=\"black\" d=\"M19.67,-221.64C20.72,-201.49 24.97,-169.43 40.5,-147 54.62,-126.6 79.09,-111.91 97.82,-102.96\"/>\n<polygon fill=\"black\" stroke=\"black\" points=\"99.33,-106.12 107,-98.8 96.45,-99.74 99.33,-106.12\"/>\n</g>\n<!-- x_15&#45;&gt;x_5 -->\n<g id=\"edge21\" class=\"edge\">\n<title>x_15&#45;&gt;x_5</title>\n<path fill=\"none\" stroke=\"black\" d=\"M35.29,-229.4C52.74,-217.16 80.97,-197.34 100.79,-183.44\"/>\n<polygon fill=\"black\" stroke=\"black\" points=\"103.06,-186.12 109.23,-177.51 99.03,-180.39 103.06,-186.12\"/>\n</g>\n<!-- x_16 -->\n<g id=\"node17\" class=\"node\">\n<title>x_16</title>\n<ellipse fill=\"none\" stroke=\"black\" cx=\"224.5\" cy=\"-241.49\" rx=\"19.5\" ry=\"19.5\"/>\n<text text-anchor=\"middle\" x=\"224.5\" y=\"-237.79\" font-family=\"Times,serif\" font-size=\"14.00\">16</text>\n</g>\n<!-- x_16&#45;&gt;x_4 -->\n<g id=\"edge22\" class=\"edge\">\n<title>x_16&#45;&gt;x_4</title>\n<path fill=\"none\" stroke=\"black\" d=\"M236.58,-225.65C244.52,-215.16 254.52,-200.45 260.5,-185.99 269.32,-164.65 274.17,-138.83 276.76,-119.73\"/>\n<polygon fill=\"black\" stroke=\"black\" points=\"280.25,-119.97 278,-109.62 273.31,-119.12 280.25,-119.97\"/>\n</g>\n<!-- x_16&#45;&gt;x_5 -->\n<g id=\"edge23\" class=\"edge\">\n<title>x_16&#45;&gt;x_5</title>\n<path fill=\"none\" stroke=\"black\" d=\"M209.16,-229.4C192.31,-217.23 165.11,-197.57 145.88,-183.67\"/>\n<polygon fill=\"black\" stroke=\"black\" points=\"147.83,-180.76 137.67,-177.74 143.73,-186.44 147.83,-180.76\"/>\n</g>\n<!-- x_17 -->\n<g id=\"node18\" class=\"node\">\n<title>x_17</title>\n<ellipse fill=\"none\" stroke=\"black\" cx=\"178.5\" cy=\"-91.5\" rx=\"19.5\" ry=\"19.5\"/>\n<text text-anchor=\"middle\" x=\"178.5\" y=\"-87.8\" font-family=\"Times,serif\" font-size=\"14.00\">17</text>\n</g>\n<!-- x_17&#45;&gt;x_0 -->\n<g id=\"edge24\" class=\"edge\">\n<title>x_17&#45;&gt;x_0</title>\n<path fill=\"none\" stroke=\"gray\" stroke-dasharray=\"5,2\" d=\"M171.82,-72.82C168.37,-63.69 164.12,-52.41 160.39,-42.55\"/>\n<ellipse fill=\"gray\" stroke=\"gray\" cx=\"158.96\" cy=\"-38.75\" rx=\"4\" ry=\"4\"/>\n</g>\n<!-- x_18 -->\n<g id=\"node19\" class=\"node\">\n<title>x_18</title>\n<ellipse fill=\"none\" stroke=\"black\" cx=\"334.5\" cy=\"-91.5\" rx=\"19.5\" ry=\"19.5\"/>\n<text text-anchor=\"middle\" x=\"334.5\" y=\"-87.8\" font-family=\"Times,serif\" font-size=\"14.00\">18</text>\n</g>\n<!-- x_18&#45;&gt;x_1 -->\n<g id=\"edge25\" class=\"edge\">\n<title>x_18&#45;&gt;x_1</title>\n<path fill=\"none\" stroke=\"gray\" stroke-dasharray=\"5,2\" d=\"M327.72,-73.19C324.14,-64.06 319.7,-52.72 315.81,-42.77\"/>\n<ellipse fill=\"gray\" stroke=\"gray\" cx=\"314.29\" cy=\"-38.89\" rx=\"4\" ry=\"4\"/>\n</g>\n<!-- x_19 -->\n<g id=\"node20\" class=\"node\">\n<title>x_19</title>\n<ellipse fill=\"none\" stroke=\"black\" cx=\"123.5\" cy=\"-316.49\" rx=\"19.5\" ry=\"19.5\"/>\n<text text-anchor=\"middle\" x=\"123.5\" y=\"-312.79\" font-family=\"Times,serif\" font-size=\"14.00\">19</text>\n</g>\n<!-- x_19&#45;&gt;x_5 -->\n<g id=\"edge26\" class=\"edge\">\n<title>x_19&#45;&gt;x_5</title>\n<path fill=\"none\" stroke=\"black\" d=\"M123.5,-296.74C123.5,-270.98 123.5,-224.44 123.5,-194.8\"/>\n<polygon fill=\"black\" stroke=\"black\" points=\"127,-194.71 123.5,-184.71 120,-194.71 127,-194.71\"/>\n</g>\n</g>\n</svg>\n",
            "text/plain": [
              "<graphviz.sources.Source at 0x7c1bc62292d0>"
            ]
          },
          "metadata": {},
          "execution_count": 18
        }
      ]
    },
    {
      "cell_type": "code",
      "source": [],
      "metadata": {
        "id": "9r8ss5FMGHUN"
      },
      "id": "9r8ss5FMGHUN",
      "execution_count": null,
      "outputs": []
    },
    {
      "cell_type": "code",
      "source": [
        "ssst_hgf_control_decision_model = (\n",
        "    Network()\n",
        "    .add_nodes(kind=\"binary-state\", n_nodes=1) # Node 0: accuracy (1=success, 0= fail)\n",
        "    .add_nodes(n_nodes=2)  # Node 1: cognitive capacity, Node 2: cognitive load\n",
        "\n",
        "    # Trial Type Node\n",
        "    .add_nodes(n_nodes=1)  # Node 3: Trial Type (0 = Passive, 1 = Go, 2 = Select)\n",
        "\n",
        "    # Latent states of resource availability and cognitive load\n",
        "    .add_nodes(value_children=[1])       # Node 4: Latent Resource Availability\n",
        "    .add_nodes(value_children=[2])       # Node 5: Latent Cognitive Load\n",
        "\n",
        "    # Decision to allocate control\n",
        "    .add_nodes(value_children=[4, 5])    # Node 6: Decision to allocate control\n",
        "\n",
        "    # Autoregressive updates (memory effects)\n",
        "    .add_nodes(value_children=[4,4])     # Node 7: Prior Resources → Current Resources\n",
        "    .add_nodes(value_children=[5,5])     # Node 8: Prior Load → Current Load\n",
        "    .add_nodes(value_children=[6,6])     # Node 9: Prior Control Decision → Current Decision\n",
        "\n",
        "    # Influence of Trial Type\n",
        "    .add_nodes(value_children=[7, 3])    # Node 10: Trial Type → Resource Availability\n",
        "    .add_nodes(value_children=[8, 3])    # Node 11: Trial Type → Cognitive Load\n",
        "    .add_nodes(value_children=[9, 3])    # Node 12: Trial Type → Decision to Allocate Control\n",
        "\n",
        "    # Volatility terms for dynamic updates\n",
        "    .add_nodes(volatility_children=[4])  # Node 13: Resource Availability Volatility\n",
        "    .add_nodes(volatility_children=[5])  # Node 14: Cognitive Load Volatility\n",
        "    .add_nodes(volatility_children=[6])  # Node 15: Decision Uncertainty\n",
        "\n",
        "    # Control Allocation Influences Future Resource Availability and Load\n",
        "    .add_nodes(value_children=[4, 6])    # Node 16: Control Allocation → Future Resources\n",
        "    .add_nodes(value_children=[5, 6])    # Node 17: Control Allocation → Future Cognitive Load\n",
        "\n",
        "    # Uncertainty for Measured Inputs\n",
        "    .add_nodes(volatility_children=[1])  # Node 18: Observation Noise in Cognitive Capacity\n",
        "    .add_nodes(volatility_children=[2])  # Node 19: Observation Noise in Cognitive Load\n",
        "\n",
        "    # Bias Toward/Against Control Allocation\n",
        "    .add_nodes(value_children=[6])       # Node 20: Bias in Control Allocation\n",
        "\n",
        "    # Accuracy indicating decision threshold for allocating control successfully\n",
        "    .add_nodes(value_children=[0,6])     # Node 21: Decision → Control Allocation\n",
        "    .add_nodes(value_children=[21, 0])   # Node 22: Resources Influence Success\n",
        "    .add_nodes(value_children=[21, 1])   # Node 23: Cognitive Load Influences Success\n",
        "    .add_nodes(value_children=[21, 2])   # Node 24: Trial Type Influences Success\n",
        ")\n",
        "\n",
        "\n",
        "\n",
        "\n",
        "ssst_hgf_control_decision_model.plot_network()"
      ],
      "metadata": {
        "id": "bx1FhAMbGHgo",
        "outputId": "ed6174f4-6078-4d1c-9da1-6087c010dec6",
        "colab": {
          "base_uri": "https://localhost:8080/",
          "height": 479
        }
      },
      "id": "bx1FhAMbGHgo",
      "execution_count": null,
      "outputs": [
        {
          "output_type": "execute_result",
          "data": {
            "image/svg+xml": "<?xml version=\"1.0\" encoding=\"UTF-8\" standalone=\"no\"?>\n<!DOCTYPE svg PUBLIC \"-//W3C//DTD SVG 1.1//EN\"\n \"http://www.w3.org/Graphics/SVG/1.1/DTD/svg11.dtd\">\n<!-- Generated by graphviz version 2.43.0 (0)\n -->\n<!-- Title: hgf&#45;nodes Pages: 1 -->\n<svg width=\"633pt\" height=\"344pt\"\n viewBox=\"0.00 0.00 633.00 343.99\" xmlns=\"http://www.w3.org/2000/svg\" xmlns:xlink=\"http://www.w3.org/1999/xlink\">\n<g id=\"graph0\" class=\"graph\" transform=\"scale(1 1) rotate(0) translate(4 339.99)\">\n<title>hgf&#45;nodes</title>\n<polygon fill=\"white\" stroke=\"transparent\" points=\"-4,4 -4,-339.99 629,-339.99 629,4 -4,4\"/>\n<!-- x_0 -->\n<g id=\"node1\" class=\"node\">\n<title>x_0</title>\n<polygon fill=\"lightgrey\" stroke=\"black\" points=\"100.5,-184.49 64.5,-184.49 64.5,-148.49 100.5,-148.49 100.5,-184.49\"/>\n<text text-anchor=\"middle\" x=\"82.5\" y=\"-162.79\" font-family=\"Times,serif\" font-size=\"14.00\">0</text>\n</g>\n<!-- x_1 -->\n<g id=\"node2\" class=\"node\">\n<title>x_1</title>\n<ellipse fill=\"lightgrey\" stroke=\"black\" cx=\"82.5\" cy=\"-18\" rx=\"18\" ry=\"18\"/>\n<text text-anchor=\"middle\" x=\"82.5\" y=\"-14.3\" font-family=\"Times,serif\" font-size=\"14.00\">1</text>\n</g>\n<!-- x_2 -->\n<g id=\"node3\" class=\"node\">\n<title>x_2</title>\n<ellipse fill=\"lightgrey\" stroke=\"black\" cx=\"369.5\" cy=\"-18\" rx=\"18\" ry=\"18\"/>\n<text text-anchor=\"middle\" x=\"369.5\" y=\"-14.3\" font-family=\"Times,serif\" font-size=\"14.00\">2</text>\n</g>\n<!-- x_3 -->\n<g id=\"node4\" class=\"node\">\n<title>x_3</title>\n<ellipse fill=\"lightgrey\" stroke=\"black\" cx=\"496.5\" cy=\"-166.49\" rx=\"18\" ry=\"18\"/>\n<text text-anchor=\"middle\" x=\"496.5\" y=\"-162.79\" font-family=\"Times,serif\" font-size=\"14.00\">3</text>\n</g>\n<!-- x_4 -->\n<g id=\"node5\" class=\"node\">\n<title>x_4</title>\n<ellipse fill=\"none\" stroke=\"black\" cx=\"265.5\" cy=\"-91.5\" rx=\"18\" ry=\"18\"/>\n<text text-anchor=\"middle\" x=\"265.5\" y=\"-87.8\" font-family=\"Times,serif\" font-size=\"14.00\">4</text>\n</g>\n<!-- x_4&#45;&gt;x_1 -->\n<g id=\"edge1\" class=\"edge\">\n<title>x_4&#45;&gt;x_1</title>\n<path fill=\"none\" stroke=\"black\" d=\"M248.94,-84.03C217.03,-71.56 146.84,-44.14 108.59,-29.2\"/>\n<polygon fill=\"black\" stroke=\"black\" points=\"109.74,-25.89 99.16,-25.51 107.2,-32.41 109.74,-25.89\"/>\n</g>\n<!-- x_5 -->\n<g id=\"node6\" class=\"node\">\n<title>x_5</title>\n<ellipse fill=\"none\" stroke=\"black\" cx=\"500.5\" cy=\"-91.5\" rx=\"18\" ry=\"18\"/>\n<text text-anchor=\"middle\" x=\"500.5\" y=\"-87.8\" font-family=\"Times,serif\" font-size=\"14.00\">5</text>\n</g>\n<!-- x_5&#45;&gt;x_2 -->\n<g id=\"edge2\" class=\"edge\">\n<title>x_5&#45;&gt;x_2</title>\n<path fill=\"none\" stroke=\"black\" d=\"M484.96,-82.02C462.5,-69.76 420.76,-46.98 394.1,-32.43\"/>\n<polygon fill=\"black\" stroke=\"black\" points=\"395.47,-29.19 385.02,-27.47 392.12,-35.33 395.47,-29.19\"/>\n</g>\n<!-- x_6 -->\n<g id=\"node7\" class=\"node\">\n<title>x_6</title>\n<ellipse fill=\"none\" stroke=\"black\" cx=\"346.5\" cy=\"-166.49\" rx=\"18\" ry=\"18\"/>\n<text text-anchor=\"middle\" x=\"346.5\" y=\"-162.79\" font-family=\"Times,serif\" font-size=\"14.00\">6</text>\n</g>\n<!-- x_6&#45;&gt;x_4 -->\n<g id=\"edge3\" class=\"edge\">\n<title>x_6&#45;&gt;x_4</title>\n<path fill=\"none\" stroke=\"black\" d=\"M333.48,-153.77C320.73,-142.27 301.09,-124.57 286.19,-111.15\"/>\n<polygon fill=\"black\" stroke=\"black\" points=\"288.25,-108.29 278.48,-104.2 283.57,-113.49 288.25,-108.29\"/>\n</g>\n<!-- x_6&#45;&gt;x_5 -->\n<g id=\"edge4\" class=\"edge\">\n<title>x_6&#45;&gt;x_5</title>\n<path fill=\"none\" stroke=\"black\" d=\"M362.4,-157.96C389.14,-145.28 443.33,-119.6 475.3,-104.44\"/>\n<polygon fill=\"black\" stroke=\"black\" points=\"476.92,-107.55 484.45,-100.1 473.92,-101.22 476.92,-107.55\"/>\n</g>\n<!-- x_7 -->\n<g id=\"node8\" class=\"node\">\n<title>x_7</title>\n<ellipse fill=\"none\" stroke=\"black\" cx=\"288.5\" cy=\"-166.49\" rx=\"18\" ry=\"18\"/>\n<text text-anchor=\"middle\" x=\"288.5\" y=\"-162.79\" font-family=\"Times,serif\" font-size=\"14.00\">7</text>\n</g>\n<!-- x_7&#45;&gt;x_4 -->\n<g id=\"edge5\" class=\"edge\">\n<title>x_7&#45;&gt;x_4</title>\n<path fill=\"none\" stroke=\"black\" d=\"M278.61,-151.42C274.55,-142.38 270.4,-130.34 267.46,-119.5\"/>\n<polygon fill=\"black\" stroke=\"black\" points=\"270.82,-118.51 265.07,-109.61 264.02,-120.16 270.82,-118.51\"/>\n</g>\n<!-- x_7&#45;&gt;x_4 -->\n<g id=\"edge6\" class=\"edge\">\n<title>x_7&#45;&gt;x_4</title>\n<path fill=\"none\" stroke=\"black\" d=\"M288.89,-148.2C286.87,-138.61 283.25,-126.56 279.3,-116.12\"/>\n<polygon fill=\"black\" stroke=\"black\" points=\"282.49,-114.66 275.46,-106.73 276.01,-117.31 282.49,-114.66\"/>\n</g>\n<!-- x_8 -->\n<g id=\"node9\" class=\"node\">\n<title>x_8</title>\n<ellipse fill=\"none\" stroke=\"black\" cx=\"550.5\" cy=\"-166.49\" rx=\"18\" ry=\"18\"/>\n<text text-anchor=\"middle\" x=\"550.5\" y=\"-162.79\" font-family=\"Times,serif\" font-size=\"14.00\">8</text>\n</g>\n<!-- x_8&#45;&gt;x_5 -->\n<g id=\"edge7\" class=\"edge\">\n<title>x_8&#45;&gt;x_5</title>\n<path fill=\"none\" stroke=\"black\" d=\"M537.35,-153.77C529.15,-144.07 519.04,-129.95 511.31,-117.71\"/>\n<polygon fill=\"black\" stroke=\"black\" points=\"514.11,-115.57 505.95,-108.82 508.12,-119.19 514.11,-115.57\"/>\n</g>\n<!-- x_8&#45;&gt;x_5 -->\n<g id=\"edge8\" class=\"edge\">\n<title>x_8&#45;&gt;x_5</title>\n<path fill=\"none\" stroke=\"black\" d=\"M545.12,-149.29C538.87,-138.34 529.03,-123.82 520.06,-112.2\"/>\n<polygon fill=\"black\" stroke=\"black\" points=\"522.74,-109.94 513.74,-104.34 517.28,-114.33 522.74,-109.94\"/>\n</g>\n<!-- x_9 -->\n<g id=\"node10\" class=\"node\">\n<title>x_9</title>\n<ellipse fill=\"none\" stroke=\"black\" cx=\"401.5\" cy=\"-241.49\" rx=\"18\" ry=\"18\"/>\n<text text-anchor=\"middle\" x=\"401.5\" y=\"-237.79\" font-family=\"Times,serif\" font-size=\"14.00\">9</text>\n</g>\n<!-- x_9&#45;&gt;x_6 -->\n<g id=\"edge9\" class=\"edge\">\n<title>x_9&#45;&gt;x_6</title>\n<path fill=\"none\" stroke=\"black\" d=\"M388.14,-229.4C378.99,-219.49 367.31,-204.6 358.49,-191.92\"/>\n<polygon fill=\"black\" stroke=\"black\" points=\"361.37,-189.93 352.9,-183.57 355.56,-193.83 361.37,-189.93\"/>\n</g>\n<!-- x_9&#45;&gt;x_6 -->\n<g id=\"edge10\" class=\"edge\">\n<title>x_9&#45;&gt;x_6</title>\n<path fill=\"none\" stroke=\"black\" d=\"M395.01,-224.29C387.85,-213.1 376.7,-198.17 366.76,-186.43\"/>\n<polygon fill=\"black\" stroke=\"black\" points=\"369.37,-184.09 360.15,-178.89 364.11,-188.71 369.37,-184.09\"/>\n</g>\n<!-- x_10 -->\n<g id=\"node11\" class=\"node\">\n<title>x_10</title>\n<ellipse fill=\"none\" stroke=\"black\" cx=\"289.5\" cy=\"-241.49\" rx=\"19.5\" ry=\"19.5\"/>\n<text text-anchor=\"middle\" x=\"289.5\" y=\"-237.79\" font-family=\"Times,serif\" font-size=\"14.00\">10</text>\n</g>\n<!-- x_10&#45;&gt;x_3 -->\n<g id=\"edge11\" class=\"edge\">\n<title>x_10&#45;&gt;x_3</title>\n<path fill=\"none\" stroke=\"black\" d=\"M305.01,-229.51C309.26,-226.81 313.94,-224.1 318.5,-221.99 369.42,-198.49 433.11,-181.81 468.85,-173.5\"/>\n<polygon fill=\"black\" stroke=\"black\" points=\"470.02,-176.82 479,-171.19 468.47,-169.99 470.02,-176.82\"/>\n</g>\n<!-- x_10&#45;&gt;x_7 -->\n<g id=\"edge12\" class=\"edge\">\n<title>x_10&#45;&gt;x_7</title>\n<path fill=\"none\" stroke=\"black\" d=\"M289.24,-221.69C289.13,-213.64 289,-204.08 288.88,-195.24\"/>\n<polygon fill=\"black\" stroke=\"black\" points=\"292.37,-194.93 288.74,-184.98 285.38,-195.02 292.37,-194.93\"/>\n</g>\n<!-- x_11 -->\n<g id=\"node12\" class=\"node\">\n<title>x_11</title>\n<ellipse fill=\"none\" stroke=\"black\" cx=\"550.5\" cy=\"-241.49\" rx=\"19.5\" ry=\"19.5\"/>\n<text text-anchor=\"middle\" x=\"550.5\" y=\"-237.79\" font-family=\"Times,serif\" font-size=\"14.00\">11</text>\n</g>\n<!-- x_11&#45;&gt;x_3 -->\n<g id=\"edge13\" class=\"edge\">\n<title>x_11&#45;&gt;x_3</title>\n<path fill=\"none\" stroke=\"black\" d=\"M539.31,-225.37C531.73,-215.12 521.58,-201.4 513.06,-189.89\"/>\n<polygon fill=\"black\" stroke=\"black\" points=\"515.7,-187.57 506.94,-181.61 510.07,-191.73 515.7,-187.57\"/>\n</g>\n<!-- x_11&#45;&gt;x_8 -->\n<g id=\"edge14\" class=\"edge\">\n<title>x_11&#45;&gt;x_8</title>\n<path fill=\"none\" stroke=\"black\" d=\"M550.5,-221.69C550.5,-213.64 550.5,-204.08 550.5,-195.24\"/>\n<polygon fill=\"black\" stroke=\"black\" points=\"554,-194.98 550.5,-184.98 547,-194.98 554,-194.98\"/>\n</g>\n<!-- x_12 -->\n<g id=\"node13\" class=\"node\">\n<title>x_12</title>\n<ellipse fill=\"none\" stroke=\"black\" cx=\"452.5\" cy=\"-316.49\" rx=\"19.5\" ry=\"19.5\"/>\n<text text-anchor=\"middle\" x=\"452.5\" y=\"-312.79\" font-family=\"Times,serif\" font-size=\"14.00\">12</text>\n</g>\n<!-- x_12&#45;&gt;x_3 -->\n<g id=\"edge15\" class=\"edge\">\n<title>x_12&#45;&gt;x_3</title>\n<path fill=\"none\" stroke=\"black\" d=\"M463.82,-300.1C470.94,-289.61 479.67,-275.11 484.5,-260.99 491.88,-239.4 494.78,-213.6 495.89,-194.57\"/>\n<polygon fill=\"black\" stroke=\"black\" points=\"499.39,-194.65 496.35,-184.51 492.4,-194.33 499.39,-194.65\"/>\n</g>\n<!-- x_12&#45;&gt;x_9 -->\n<g id=\"edge16\" class=\"edge\">\n<title>x_12&#45;&gt;x_9</title>\n<path fill=\"none\" stroke=\"black\" d=\"M441.68,-300.01C434.67,-289.97 425.41,-276.71 417.54,-265.46\"/>\n<polygon fill=\"black\" stroke=\"black\" points=\"420.2,-263.15 411.6,-256.96 414.46,-267.16 420.2,-263.15\"/>\n</g>\n<!-- x_13 -->\n<g id=\"node14\" class=\"node\">\n<title>x_13</title>\n<ellipse fill=\"none\" stroke=\"black\" cx=\"195.5\" cy=\"-166.49\" rx=\"19.5\" ry=\"19.5\"/>\n<text text-anchor=\"middle\" x=\"195.5\" y=\"-162.79\" font-family=\"Times,serif\" font-size=\"14.00\">13</text>\n</g>\n<!-- x_13&#45;&gt;x_4 -->\n<g id=\"edge17\" class=\"edge\">\n<title>x_13&#45;&gt;x_4</title>\n<path fill=\"none\" stroke=\"gray\" stroke-dasharray=\"5,2\" d=\"M208.66,-151.76C219.69,-140.27 235.53,-123.75 247.69,-111.07\"/>\n<ellipse fill=\"gray\" stroke=\"gray\" cx=\"250.56\" cy=\"-108.08\" rx=\"4\" ry=\"4\"/>\n</g>\n<!-- x_14 -->\n<g id=\"node15\" class=\"node\">\n<title>x_14</title>\n<ellipse fill=\"none\" stroke=\"black\" cx=\"605.5\" cy=\"-166.49\" rx=\"19.5\" ry=\"19.5\"/>\n<text text-anchor=\"middle\" x=\"605.5\" y=\"-162.79\" font-family=\"Times,serif\" font-size=\"14.00\">14</text>\n</g>\n<!-- x_14&#45;&gt;x_5 -->\n<g id=\"edge18\" class=\"edge\">\n<title>x_14&#45;&gt;x_5</title>\n<path fill=\"none\" stroke=\"gray\" stroke-dasharray=\"5,2\" d=\"M589.55,-154.41C571.38,-141.78 541.62,-121.09 521.56,-107.14\"/>\n<ellipse fill=\"gray\" stroke=\"gray\" cx=\"518.19\" cy=\"-104.8\" rx=\"4\" ry=\"4\"/>\n</g>\n<!-- x_15 -->\n<g id=\"node16\" class=\"node\">\n<title>x_15</title>\n<ellipse fill=\"none\" stroke=\"black\" cx=\"346.5\" cy=\"-241.49\" rx=\"19.5\" ry=\"19.5\"/>\n<text text-anchor=\"middle\" x=\"346.5\" y=\"-237.79\" font-family=\"Times,serif\" font-size=\"14.00\">15</text>\n</g>\n<!-- x_15&#45;&gt;x_6 -->\n<g id=\"edge19\" class=\"edge\">\n<title>x_15&#45;&gt;x_6</title>\n<path fill=\"none\" stroke=\"gray\" stroke-dasharray=\"5,2\" d=\"M346.5,-221.69C346.5,-213.03 346.5,-202.6 346.5,-193.22\"/>\n<ellipse fill=\"gray\" stroke=\"gray\" cx=\"346.5\" cy=\"-188.98\" rx=\"4\" ry=\"4\"/>\n</g>\n<!-- x_16 -->\n<g id=\"node17\" class=\"node\">\n<title>x_16</title>\n<ellipse fill=\"none\" stroke=\"black\" cx=\"195.5\" cy=\"-241.49\" rx=\"19.5\" ry=\"19.5\"/>\n<text text-anchor=\"middle\" x=\"195.5\" y=\"-237.79\" font-family=\"Times,serif\" font-size=\"14.00\">16</text>\n</g>\n<!-- x_16&#45;&gt;x_4 -->\n<g id=\"edge20\" class=\"edge\">\n<title>x_16&#45;&gt;x_4</title>\n<path fill=\"none\" stroke=\"black\" d=\"M204.3,-223.91C209.94,-213.17 217.32,-198.84 223.5,-185.99 234.48,-163.16 246.24,-136.8 254.52,-117.9\"/>\n<polygon fill=\"black\" stroke=\"black\" points=\"257.83,-119.06 258.62,-108.5 251.41,-116.27 257.83,-119.06\"/>\n</g>\n<!-- x_16&#45;&gt;x_6 -->\n<g id=\"edge21\" class=\"edge\">\n<title>x_16&#45;&gt;x_6</title>\n<path fill=\"none\" stroke=\"black\" d=\"M212.08,-230.69C217.27,-227.76 223.06,-224.63 228.5,-221.99 266.15,-203.73 278.1,-204.76 315.5,-185.99 317.93,-184.77 320.44,-183.43 322.92,-182.04\"/>\n<polygon fill=\"black\" stroke=\"black\" points=\"324.73,-185.04 331.61,-176.98 321.21,-178.99 324.73,-185.04\"/>\n</g>\n<!-- x_17 -->\n<g id=\"node18\" class=\"node\">\n<title>x_17</title>\n<ellipse fill=\"none\" stroke=\"black\" cx=\"456.5\" cy=\"-241.49\" rx=\"19.5\" ry=\"19.5\"/>\n<text text-anchor=\"middle\" x=\"456.5\" y=\"-237.79\" font-family=\"Times,serif\" font-size=\"14.00\">17</text>\n</g>\n<!-- x_17&#45;&gt;x_5 -->\n<g id=\"edge22\" class=\"edge\">\n<title>x_17&#45;&gt;x_5</title>\n<path fill=\"none\" stroke=\"black\" d=\"M457.03,-221.74C458.05,-202.52 461.01,-171.98 469.5,-147 473.23,-136.02 479.22,-124.75 484.95,-115.32\"/>\n<polygon fill=\"black\" stroke=\"black\" points=\"488.08,-116.91 490.49,-106.59 482.18,-113.15 488.08,-116.91\"/>\n</g>\n<!-- x_17&#45;&gt;x_6 -->\n<g id=\"edge23\" class=\"edge\">\n<title>x_17&#45;&gt;x_6</title>\n<path fill=\"none\" stroke=\"black\" d=\"M440.27,-229.72C421.55,-217.3 390.63,-196.78 369.45,-182.73\"/>\n<polygon fill=\"black\" stroke=\"black\" points=\"371.31,-179.76 361.04,-177.14 367.44,-185.59 371.31,-179.76\"/>\n</g>\n<!-- x_18 -->\n<g id=\"node19\" class=\"node\">\n<title>x_18</title>\n<ellipse fill=\"none\" stroke=\"black\" cx=\"82.5\" cy=\"-91.5\" rx=\"19.5\" ry=\"19.5\"/>\n<text text-anchor=\"middle\" x=\"82.5\" y=\"-87.8\" font-family=\"Times,serif\" font-size=\"14.00\">18</text>\n</g>\n<!-- x_18&#45;&gt;x_1 -->\n<g id=\"edge24\" class=\"edge\">\n<title>x_18&#45;&gt;x_1</title>\n<path fill=\"none\" stroke=\"gray\" stroke-dasharray=\"5,2\" d=\"M82.5,-71.71C82.5,-63.44 82.5,-53.58 82.5,-44.64\"/>\n<ellipse fill=\"gray\" stroke=\"gray\" cx=\"82.5\" cy=\"-40.43\" rx=\"4\" ry=\"4\"/>\n</g>\n<!-- x_19 -->\n<g id=\"node20\" class=\"node\">\n<title>x_19</title>\n<ellipse fill=\"none\" stroke=\"black\" cx=\"369.5\" cy=\"-91.5\" rx=\"19.5\" ry=\"19.5\"/>\n<text text-anchor=\"middle\" x=\"369.5\" y=\"-87.8\" font-family=\"Times,serif\" font-size=\"14.00\">19</text>\n</g>\n<!-- x_19&#45;&gt;x_2 -->\n<g id=\"edge25\" class=\"edge\">\n<title>x_19&#45;&gt;x_2</title>\n<path fill=\"none\" stroke=\"gray\" stroke-dasharray=\"5,2\" d=\"M369.5,-71.71C369.5,-63.44 369.5,-53.58 369.5,-44.64\"/>\n<ellipse fill=\"gray\" stroke=\"gray\" cx=\"369.5\" cy=\"-40.43\" rx=\"4\" ry=\"4\"/>\n</g>\n<!-- x_20 -->\n<g id=\"node21\" class=\"node\">\n<title>x_20</title>\n<ellipse fill=\"none\" stroke=\"black\" cx=\"242.5\" cy=\"-316.49\" rx=\"19.5\" ry=\"19.5\"/>\n<text text-anchor=\"middle\" x=\"242.5\" y=\"-312.79\" font-family=\"Times,serif\" font-size=\"14.00\">20</text>\n</g>\n<!-- x_20&#45;&gt;x_6 -->\n<g id=\"edge26\" class=\"edge\">\n<title>x_20&#45;&gt;x_6</title>\n<path fill=\"none\" stroke=\"black\" d=\"M242.14,-296.99C242.63,-276.86 246.05,-244.54 261.5,-221.99 263.54,-219.01 298.23,-197.25 322.66,-182.15\"/>\n<polygon fill=\"black\" stroke=\"black\" points=\"324.75,-184.97 331.42,-176.74 321.08,-179.01 324.75,-184.97\"/>\n</g>\n<!-- x_21 -->\n<g id=\"node22\" class=\"node\">\n<title>x_21</title>\n<ellipse fill=\"none\" stroke=\"black\" cx=\"101.5\" cy=\"-241.49\" rx=\"19.5\" ry=\"19.5\"/>\n<text text-anchor=\"middle\" x=\"101.5\" y=\"-237.79\" font-family=\"Times,serif\" font-size=\"14.00\">21</text>\n</g>\n<!-- x_21&#45;&gt;x_0 -->\n<g id=\"edge27\" class=\"edge\">\n<title>x_21&#45;&gt;x_0</title>\n<path fill=\"none\" stroke=\"black\" d=\"M96.8,-222.45C94.63,-214.1 92,-204.01 89.6,-194.77\"/>\n<polygon fill=\"black\" stroke=\"black\" points=\"92.92,-193.62 87.01,-184.83 86.14,-195.39 92.92,-193.62\"/>\n</g>\n<!-- x_21&#45;&gt;x_6 -->\n<g id=\"edge28\" class=\"edge\">\n<title>x_21&#45;&gt;x_6</title>\n<path fill=\"none\" stroke=\"black\" d=\"M119.94,-235.14C133.15,-231.35 151.38,-226.21 167.5,-221.99 232.99,-204.86 252.84,-211.62 315.5,-185.99 318.02,-184.96 320.58,-183.75 323.1,-182.44\"/>\n<polygon fill=\"black\" stroke=\"black\" points=\"324.87,-185.46 331.83,-177.47 321.41,-179.37 324.87,-185.46\"/>\n</g>\n<!-- x_22 -->\n<g id=\"node23\" class=\"node\">\n<title>x_22</title>\n<ellipse fill=\"none\" stroke=\"black\" cx=\"80.5\" cy=\"-316.49\" rx=\"19.5\" ry=\"19.5\"/>\n<text text-anchor=\"middle\" x=\"80.5\" y=\"-312.79\" font-family=\"Times,serif\" font-size=\"14.00\">22</text>\n</g>\n<!-- x_22&#45;&gt;x_0 -->\n<g id=\"edge29\" class=\"edge\">\n<title>x_22&#45;&gt;x_0</title>\n<path fill=\"none\" stroke=\"black\" d=\"M77.55,-297.13C76,-286.59 74.27,-273.08 73.5,-260.99 72.39,-243.69 72.08,-239.27 73.5,-221.99 74.23,-213.02 75.64,-203.31 77.13,-194.6\"/>\n<polygon fill=\"black\" stroke=\"black\" points=\"80.6,-195.05 78.94,-184.59 73.71,-193.8 80.6,-195.05\"/>\n</g>\n<!-- x_22&#45;&gt;x_21 -->\n<g id=\"edge30\" class=\"edge\">\n<title>x_22&#45;&gt;x_21</title>\n<path fill=\"none\" stroke=\"black\" d=\"M85.69,-297.44C88.05,-289.22 90.91,-279.31 93.53,-270.17\"/>\n<polygon fill=\"black\" stroke=\"black\" points=\"96.97,-270.91 96.37,-260.33 90.24,-268.97 96.97,-270.91\"/>\n</g>\n<!-- x_23 -->\n<g id=\"node24\" class=\"node\">\n<title>x_23</title>\n<ellipse fill=\"none\" stroke=\"black\" cx=\"19.5\" cy=\"-316.49\" rx=\"19.5\" ry=\"19.5\"/>\n<text text-anchor=\"middle\" x=\"19.5\" y=\"-312.79\" font-family=\"Times,serif\" font-size=\"14.00\">23</text>\n</g>\n<!-- x_23&#45;&gt;x_1 -->\n<g id=\"edge31\" class=\"edge\">\n<title>x_23&#45;&gt;x_1</title>\n<path fill=\"none\" stroke=\"black\" d=\"M20.01,-296.98C21.61,-255.64 28.15,-153.02 54.5,-72 57.79,-61.86 62.93,-51.35 67.92,-42.39\"/>\n<polygon fill=\"black\" stroke=\"black\" points=\"70.97,-44.1 72.97,-33.7 64.92,-40.59 70.97,-44.1\"/>\n</g>\n<!-- x_23&#45;&gt;x_21 -->\n<g id=\"edge32\" class=\"edge\">\n<title>x_23&#45;&gt;x_21</title>\n<path fill=\"none\" stroke=\"black\" d=\"M33.78,-302.77C46.48,-291.47 65.24,-274.77 79.79,-261.82\"/>\n<polygon fill=\"black\" stroke=\"black\" points=\"82.24,-264.32 87.38,-255.06 77.58,-259.1 82.24,-264.32\"/>\n</g>\n<!-- x_24 -->\n<g id=\"node25\" class=\"node\">\n<title>x_24</title>\n<ellipse fill=\"none\" stroke=\"black\" cx=\"139.5\" cy=\"-316.49\" rx=\"19.5\" ry=\"19.5\"/>\n<text text-anchor=\"middle\" x=\"139.5\" y=\"-312.79\" font-family=\"Times,serif\" font-size=\"14.00\">24</text>\n</g>\n<!-- x_24&#45;&gt;x_2 -->\n<g id=\"edge33\" class=\"edge\">\n<title>x_24&#45;&gt;x_2</title>\n<path fill=\"none\" stroke=\"black\" d=\"M139.12,-296.96C139.2,-264.74 142.62,-197.05 167.5,-147 187.93,-105.9 200.58,-97.86 238.5,-72 271.21,-49.69 314.74,-34.45 342.45,-26.23\"/>\n<polygon fill=\"black\" stroke=\"black\" points=\"343.59,-29.54 352.24,-23.42 341.66,-22.81 343.59,-29.54\"/>\n</g>\n<!-- x_24&#45;&gt;x_21 -->\n<g id=\"edge34\" class=\"edge\">\n<title>x_24&#45;&gt;x_21</title>\n<path fill=\"none\" stroke=\"black\" d=\"M130.88,-298.92C126.15,-289.84 120.18,-278.38 114.87,-268.17\"/>\n<polygon fill=\"black\" stroke=\"black\" points=\"117.94,-266.5 110.22,-259.24 111.73,-269.73 117.94,-266.5\"/>\n</g>\n</g>\n</svg>\n",
            "text/plain": [
              "<graphviz.sources.Source at 0x7c1bc6d3c850>"
            ]
          },
          "metadata": {},
          "execution_count": 14
        }
      ]
    },
    {
      "cell_type": "code",
      "source": [
        "ssst_hgf_control_decision_model = (\n",
        "    Network()\n",
        "    .add_nodes(kind=\"binary-state\", n_nodes=1) # Node 0: accuracy (1=success, 0= fail)\n",
        "    .add_nodes(n_nodes=2)  # Node 1: cognitive capacity, Node 2: cognitive load\n",
        "\n",
        "    # Trial Type Node\n",
        "    .add_nodes(n_nodes=1)  # Node 3: Trial Type (0 = Passive, 1 = Go, 2 = Select)\n",
        "\n",
        "    # Latent states of resource availability and cognitive load\n",
        "    .add_nodes(value_children=[1])       # Node 4: Latent Resource Availability\n",
        "    .add_nodes(value_children=[2])       # Node 5: Latent Cognitive Load\n",
        "\n",
        "    # Evidence accumulation before deciding to allocate control\n",
        "    .add_nodes(value_children=[4, 5])    # Node 6: Information Accumulation\n",
        "\n",
        "    # Decision to allocate control\n",
        "    .add_nodes(value_children=[6])       # Node 7: Decision to allocate control\n",
        "\n",
        "    # Autoregressive updates (memory effects)\n",
        "    .add_nodes(value_children=[4,4])     # Node 8: Prior Resources → Current Resources\n",
        "    .add_nodes(value_children=[5,5])     # Node 9: Prior Load → Current Load\n",
        "    .add_nodes(value_children=[7,7])     # Node 10: Prior Control Decision → Current Decision\n",
        "\n",
        "    # Influence of Trial Type\n",
        "    .add_nodes(value_children=[8, 3])    # Node 11: Trial Type → Resource Availability\n",
        "    .add_nodes(value_children=[9, 3])    # Node 12: Trial Type → Cognitive Load\n",
        "    .add_nodes(value_children=[10, 3])   # Node 13: Trial Type → Control Decision\n",
        "\n",
        "    # Volatility terms for dynamic updates\n",
        "    .add_nodes(volatility_children=[4])  # Node 14: Resource Availability Volatility\n",
        "    .add_nodes(volatility_children=[5])  # Node 15: Cognitive Load Volatility\n",
        "    .add_nodes(volatility_children=[7])  # Node 16: Decision Uncertainty\n",
        "\n",
        "    # Control Allocation Influences Future Resource Availability and Load\n",
        "    .add_nodes(value_children=[4, 7])    # Node 17: Control Allocation → Future Resources\n",
        "    .add_nodes(value_children=[5, 7])    # Node 18: Control Allocation → Future Cognitive Load\n",
        "\n",
        "    # Uncertainty for Measured Inputs\n",
        "    .add_nodes(volatility_children=[1])  # Node 19: Observation Noise in Cognitive Capacity\n",
        "    .add_nodes(volatility_children=[2])  # Node 20: Observation Noise in Cognitive Load\n",
        "\n",
        "    # Bias Toward/Against Control Allocation\n",
        "    .add_nodes(value_children=[7])       # Node 21: Bias in Control Allocation\n",
        "\n",
        "    # Control Success as Latent Outcome (Separating Decision from Success)\n",
        "    .add_nodes(value_children=[7])       # Node 22: Control Execution (Intermediate Success State)\n",
        "    .add_nodes(value_children=[22, 4])   # Node 23: Resources → Success\n",
        "    .add_nodes(value_children=[22, 5])   # Node 24: Cognitive Load → Success\n",
        "    .add_nodes(value_children=[22, 3])   # Node 25: Trial Type → Success\n",
        "\n",
        "    # Accuracy is dependent on control decision execution\n",
        "    .add_nodes(value_children=[22, 0])      # Node 26: Control Execution → Accuracy\n",
        ")\n",
        "\n",
        "\n",
        "\n",
        "ssst_hgf_control_decision_model.plot_network()"
      ],
      "metadata": {
        "id": "sf8nSL-wKIth",
        "outputId": "58382fa3-58a1-45ad-eb8d-f14b8b8731f8",
        "colab": {
          "base_uri": "https://localhost:8080/",
          "height": 579
        }
      },
      "id": "sf8nSL-wKIth",
      "execution_count": null,
      "outputs": [
        {
          "output_type": "execute_result",
          "data": {
            "image/svg+xml": "<?xml version=\"1.0\" encoding=\"UTF-8\" standalone=\"no\"?>\n<!DOCTYPE svg PUBLIC \"-//W3C//DTD SVG 1.1//EN\"\n \"http://www.w3.org/Graphics/SVG/1.1/DTD/svg11.dtd\">\n<!-- Generated by graphviz version 2.43.0 (0)\n -->\n<!-- Title: hgf&#45;nodes Pages: 1 -->\n<svg width=\"608pt\" height=\"419pt\"\n viewBox=\"0.00 0.00 608.00 418.98\" xmlns=\"http://www.w3.org/2000/svg\" xmlns:xlink=\"http://www.w3.org/1999/xlink\">\n<g id=\"graph0\" class=\"graph\" transform=\"scale(1 1) rotate(0) translate(4 414.98)\">\n<title>hgf&#45;nodes</title>\n<polygon fill=\"white\" stroke=\"transparent\" points=\"-4,4 -4,-414.98 604,-414.98 604,4 -4,4\"/>\n<!-- x_0 -->\n<g id=\"node1\" class=\"node\">\n<title>x_0</title>\n<polygon fill=\"lightgrey\" stroke=\"black\" points=\"38.5,-334.49 2.5,-334.49 2.5,-298.49 38.5,-298.49 38.5,-334.49\"/>\n<text text-anchor=\"middle\" x=\"20.5\" y=\"-312.79\" font-family=\"Times,serif\" font-size=\"14.00\">0</text>\n</g>\n<!-- x_1 -->\n<g id=\"node2\" class=\"node\">\n<title>x_1</title>\n<ellipse fill=\"lightgrey\" stroke=\"black\" cx=\"164.5\" cy=\"-18\" rx=\"18\" ry=\"18\"/>\n<text text-anchor=\"middle\" x=\"164.5\" y=\"-14.3\" font-family=\"Times,serif\" font-size=\"14.00\">1</text>\n</g>\n<!-- x_2 -->\n<g id=\"node3\" class=\"node\">\n<title>x_2</title>\n<ellipse fill=\"lightgrey\" stroke=\"black\" cx=\"502.5\" cy=\"-18\" rx=\"18\" ry=\"18\"/>\n<text text-anchor=\"middle\" x=\"502.5\" y=\"-14.3\" font-family=\"Times,serif\" font-size=\"14.00\">2</text>\n</g>\n<!-- x_3 -->\n<g id=\"node4\" class=\"node\">\n<title>x_3</title>\n<ellipse fill=\"lightgrey\" stroke=\"black\" cx=\"471.5\" cy=\"-166.49\" rx=\"18\" ry=\"18\"/>\n<text text-anchor=\"middle\" x=\"471.5\" y=\"-162.79\" font-family=\"Times,serif\" font-size=\"14.00\">3</text>\n</g>\n<!-- x_4 -->\n<g id=\"node5\" class=\"node\">\n<title>x_4</title>\n<ellipse fill=\"none\" stroke=\"black\" cx=\"136.5\" cy=\"-91.5\" rx=\"18\" ry=\"18\"/>\n<text text-anchor=\"middle\" x=\"136.5\" y=\"-87.8\" font-family=\"Times,serif\" font-size=\"14.00\">4</text>\n</g>\n<!-- x_4&#45;&gt;x_1 -->\n<g id=\"edge1\" class=\"edge\">\n<title>x_4&#45;&gt;x_1</title>\n<path fill=\"none\" stroke=\"black\" d=\"M142.85,-74.27C146.29,-65.5 150.61,-54.46 154.49,-44.56\"/>\n<polygon fill=\"black\" stroke=\"black\" points=\"157.78,-45.75 158.17,-35.16 151.26,-43.19 157.78,-45.75\"/>\n</g>\n<!-- x_5 -->\n<g id=\"node6\" class=\"node\">\n<title>x_5</title>\n<ellipse fill=\"none\" stroke=\"black\" cx=\"475.5\" cy=\"-91.5\" rx=\"18\" ry=\"18\"/>\n<text text-anchor=\"middle\" x=\"475.5\" y=\"-87.8\" font-family=\"Times,serif\" font-size=\"14.00\">5</text>\n</g>\n<!-- x_5&#45;&gt;x_2 -->\n<g id=\"edge2\" class=\"edge\">\n<title>x_5&#45;&gt;x_2</title>\n<path fill=\"none\" stroke=\"black\" d=\"M481.62,-74.27C484.94,-65.5 489.11,-54.46 492.85,-44.56\"/>\n<polygon fill=\"black\" stroke=\"black\" points=\"496.14,-45.75 496.4,-35.16 489.59,-43.28 496.14,-45.75\"/>\n</g>\n<!-- x_6 -->\n<g id=\"node7\" class=\"node\">\n<title>x_6</title>\n<ellipse fill=\"none\" stroke=\"black\" cx=\"264.5\" cy=\"-166.49\" rx=\"18\" ry=\"18\"/>\n<text text-anchor=\"middle\" x=\"264.5\" y=\"-162.79\" font-family=\"Times,serif\" font-size=\"14.00\">6</text>\n</g>\n<!-- x_6&#45;&gt;x_4 -->\n<g id=\"edge3\" class=\"edge\">\n<title>x_6&#45;&gt;x_4</title>\n<path fill=\"none\" stroke=\"black\" d=\"M248.46,-157.51C228.29,-147.31 192.75,-128.84 163.5,-111 162.19,-110.2 160.87,-109.37 159.54,-108.52\"/>\n<polygon fill=\"black\" stroke=\"black\" points=\"161.15,-105.39 150.89,-102.77 157.28,-111.22 161.15,-105.39\"/>\n</g>\n<!-- x_6&#45;&gt;x_5 -->\n<g id=\"edge4\" class=\"edge\">\n<title>x_6&#45;&gt;x_5</title>\n<path fill=\"none\" stroke=\"black\" d=\"M281.41,-159.64C318.07,-146.96 405.12,-116.84 449.1,-101.63\"/>\n<polygon fill=\"black\" stroke=\"black\" points=\"450.49,-104.85 458.8,-98.28 448.21,-98.24 450.49,-104.85\"/>\n</g>\n<!-- x_7 -->\n<g id=\"node8\" class=\"node\">\n<title>x_7</title>\n<ellipse fill=\"none\" stroke=\"black\" cx=\"264.5\" cy=\"-241.49\" rx=\"18\" ry=\"18\"/>\n<text text-anchor=\"middle\" x=\"264.5\" y=\"-237.79\" font-family=\"Times,serif\" font-size=\"14.00\">7</text>\n</g>\n<!-- x_7&#45;&gt;x_6 -->\n<g id=\"edge5\" class=\"edge\">\n<title>x_7&#45;&gt;x_6</title>\n<path fill=\"none\" stroke=\"black\" d=\"M264.5,-223.19C264.5,-214.74 264.5,-204.36 264.5,-194.87\"/>\n<polygon fill=\"black\" stroke=\"black\" points=\"268,-194.67 264.5,-184.67 261,-194.67 268,-194.67\"/>\n</g>\n<!-- x_8 -->\n<g id=\"node9\" class=\"node\">\n<title>x_8</title>\n<ellipse fill=\"none\" stroke=\"black\" cx=\"159.5\" cy=\"-166.49\" rx=\"18\" ry=\"18\"/>\n<text text-anchor=\"middle\" x=\"159.5\" y=\"-162.79\" font-family=\"Times,serif\" font-size=\"14.00\">8</text>\n</g>\n<!-- x_8&#45;&gt;x_4 -->\n<g id=\"edge6\" class=\"edge\">\n<title>x_8&#45;&gt;x_4</title>\n<path fill=\"none\" stroke=\"black\" d=\"M149.61,-151.42C145.55,-142.38 141.4,-130.34 138.46,-119.5\"/>\n<polygon fill=\"black\" stroke=\"black\" points=\"141.82,-118.51 136.07,-109.61 135.02,-120.16 141.82,-118.51\"/>\n</g>\n<!-- x_8&#45;&gt;x_4 -->\n<g id=\"edge7\" class=\"edge\">\n<title>x_8&#45;&gt;x_4</title>\n<path fill=\"none\" stroke=\"black\" d=\"M159.89,-148.2C157.87,-138.61 154.25,-126.56 150.3,-116.12\"/>\n<polygon fill=\"black\" stroke=\"black\" points=\"153.49,-114.66 146.46,-106.73 147.01,-117.31 153.49,-114.66\"/>\n</g>\n<!-- x_9 -->\n<g id=\"node10\" class=\"node\">\n<title>x_9</title>\n<ellipse fill=\"none\" stroke=\"black\" cx=\"525.5\" cy=\"-166.49\" rx=\"18\" ry=\"18\"/>\n<text text-anchor=\"middle\" x=\"525.5\" y=\"-162.79\" font-family=\"Times,serif\" font-size=\"14.00\">9</text>\n</g>\n<!-- x_9&#45;&gt;x_5 -->\n<g id=\"edge8\" class=\"edge\">\n<title>x_9&#45;&gt;x_5</title>\n<path fill=\"none\" stroke=\"black\" d=\"M512.35,-153.77C504.15,-144.07 494.04,-129.95 486.31,-117.71\"/>\n<polygon fill=\"black\" stroke=\"black\" points=\"489.11,-115.57 480.95,-108.82 483.12,-119.19 489.11,-115.57\"/>\n</g>\n<!-- x_9&#45;&gt;x_5 -->\n<g id=\"edge9\" class=\"edge\">\n<title>x_9&#45;&gt;x_5</title>\n<path fill=\"none\" stroke=\"black\" d=\"M520.12,-149.29C513.87,-138.34 504.03,-123.82 495.06,-112.2\"/>\n<polygon fill=\"black\" stroke=\"black\" points=\"497.74,-109.94 488.74,-104.34 492.28,-114.33 497.74,-109.94\"/>\n</g>\n<!-- x_10 -->\n<g id=\"node11\" class=\"node\">\n<title>x_10</title>\n<ellipse fill=\"none\" stroke=\"black\" cx=\"321.5\" cy=\"-316.49\" rx=\"19.5\" ry=\"19.5\"/>\n<text text-anchor=\"middle\" x=\"321.5\" y=\"-312.79\" font-family=\"Times,serif\" font-size=\"14.00\">10</text>\n</g>\n<!-- x_10&#45;&gt;x_7 -->\n<g id=\"edge10\" class=\"edge\">\n<title>x_10&#45;&gt;x_7</title>\n<path fill=\"none\" stroke=\"black\" d=\"M306.92,-303.43C297.64,-293.53 286.02,-279.18 277.14,-266.89\"/>\n<polygon fill=\"black\" stroke=\"black\" points=\"279.82,-264.61 271.23,-258.4 274.07,-268.61 279.82,-264.61\"/>\n</g>\n<!-- x_10&#45;&gt;x_7 -->\n<g id=\"edge11\" class=\"edge\">\n<title>x_10&#45;&gt;x_7</title>\n<path fill=\"none\" stroke=\"black\" d=\"M313.83,-298.19C306.31,-287.06 295.06,-272.6 285.09,-261.21\"/>\n<polygon fill=\"black\" stroke=\"black\" points=\"287.45,-258.59 278.13,-253.54 282.26,-263.3 287.45,-258.59\"/>\n</g>\n<!-- x_11 -->\n<g id=\"node12\" class=\"node\">\n<title>x_11</title>\n<ellipse fill=\"none\" stroke=\"black\" cx=\"184.5\" cy=\"-241.49\" rx=\"19.5\" ry=\"19.5\"/>\n<text text-anchor=\"middle\" x=\"184.5\" y=\"-237.79\" font-family=\"Times,serif\" font-size=\"14.00\">11</text>\n</g>\n<!-- x_11&#45;&gt;x_3 -->\n<g id=\"edge12\" class=\"edge\">\n<title>x_11&#45;&gt;x_3</title>\n<path fill=\"none\" stroke=\"black\" d=\"M202.5,-233.67C212.68,-229.95 225.7,-225.41 237.5,-221.99 311.33,-200.58 400.14,-181.75 444.09,-172.88\"/>\n<polygon fill=\"black\" stroke=\"black\" points=\"444.9,-176.29 454.01,-170.9 443.52,-169.43 444.9,-176.29\"/>\n</g>\n<!-- x_11&#45;&gt;x_8 -->\n<g id=\"edge13\" class=\"edge\">\n<title>x_11&#45;&gt;x_8</title>\n<path fill=\"none\" stroke=\"black\" d=\"M178.45,-222.82C175.44,-214.05 171.76,-203.29 168.44,-193.59\"/>\n<polygon fill=\"black\" stroke=\"black\" points=\"171.7,-192.33 165.15,-184 165.08,-194.6 171.7,-192.33\"/>\n</g>\n<!-- x_12 -->\n<g id=\"node13\" class=\"node\">\n<title>x_12</title>\n<ellipse fill=\"none\" stroke=\"black\" cx=\"548.5\" cy=\"-241.49\" rx=\"19.5\" ry=\"19.5\"/>\n<text text-anchor=\"middle\" x=\"548.5\" y=\"-237.79\" font-family=\"Times,serif\" font-size=\"14.00\">12</text>\n</g>\n<!-- x_12&#45;&gt;x_3 -->\n<g id=\"edge14\" class=\"edge\">\n<title>x_12&#45;&gt;x_3</title>\n<path fill=\"none\" stroke=\"black\" d=\"M534.73,-227.44C522.73,-216.06 505.16,-199.4 491.58,-186.54\"/>\n<polygon fill=\"black\" stroke=\"black\" points=\"493.79,-183.8 484.12,-179.46 488.97,-188.88 493.79,-183.8\"/>\n</g>\n<!-- x_12&#45;&gt;x_9 -->\n<g id=\"edge15\" class=\"edge\">\n<title>x_12&#45;&gt;x_9</title>\n<path fill=\"none\" stroke=\"black\" d=\"M542.81,-222.45C540.08,-213.77 536.75,-203.19 533.74,-193.65\"/>\n<polygon fill=\"black\" stroke=\"black\" points=\"536.99,-192.32 530.65,-183.84 530.31,-194.43 536.99,-192.32\"/>\n</g>\n<!-- x_13 -->\n<g id=\"node14\" class=\"node\">\n<title>x_13</title>\n<ellipse fill=\"none\" stroke=\"black\" cx=\"463.5\" cy=\"-391.48\" rx=\"19.5\" ry=\"19.5\"/>\n<text text-anchor=\"middle\" x=\"463.5\" y=\"-387.78\" font-family=\"Times,serif\" font-size=\"14.00\">13</text>\n</g>\n<!-- x_13&#45;&gt;x_3 -->\n<g id=\"edge16\" class=\"edge\">\n<title>x_13&#45;&gt;x_3</title>\n<path fill=\"none\" stroke=\"black\" d=\"M469.32,-372.54C472.43,-362.02 475.93,-348.39 477.5,-335.99 483.76,-286.46 479.01,-228.15 475.15,-194.73\"/>\n<polygon fill=\"black\" stroke=\"black\" points=\"478.62,-194.3 473.94,-184.8 471.68,-195.15 478.62,-194.3\"/>\n</g>\n<!-- x_13&#45;&gt;x_10 -->\n<g id=\"edge17\" class=\"edge\">\n<title>x_13&#45;&gt;x_10</title>\n<path fill=\"none\" stroke=\"black\" d=\"M445.94,-382.8C423.44,-372.77 383.41,-354.33 350.5,-335.99 348.99,-335.15 347.46,-334.26 345.92,-333.35\"/>\n<polygon fill=\"black\" stroke=\"black\" points=\"347.6,-330.27 337.25,-328.01 343.93,-336.23 347.6,-330.27\"/>\n</g>\n<!-- x_14 -->\n<g id=\"node15\" class=\"node\">\n<title>x_14</title>\n<ellipse fill=\"none\" stroke=\"black\" cx=\"19.5\" cy=\"-166.49\" rx=\"19.5\" ry=\"19.5\"/>\n<text text-anchor=\"middle\" x=\"19.5\" y=\"-162.79\" font-family=\"Times,serif\" font-size=\"14.00\">14</text>\n</g>\n<!-- x_14&#45;&gt;x_4 -->\n<g id=\"edge18\" class=\"edge\">\n<title>x_14&#45;&gt;x_4</title>\n<path fill=\"none\" stroke=\"gray\" stroke-dasharray=\"5,2\" d=\"M35.77,-155.34C56.28,-142.55 91.62,-120.5 114.52,-106.21\"/>\n<ellipse fill=\"gray\" stroke=\"gray\" cx=\"118.09\" cy=\"-103.99\" rx=\"4\" ry=\"4\"/>\n</g>\n<!-- x_15 -->\n<g id=\"node16\" class=\"node\">\n<title>x_15</title>\n<ellipse fill=\"none\" stroke=\"black\" cx=\"580.5\" cy=\"-166.49\" rx=\"19.5\" ry=\"19.5\"/>\n<text text-anchor=\"middle\" x=\"580.5\" y=\"-162.79\" font-family=\"Times,serif\" font-size=\"14.00\">15</text>\n</g>\n<!-- x_15&#45;&gt;x_5 -->\n<g id=\"edge19\" class=\"edge\">\n<title>x_15&#45;&gt;x_5</title>\n<path fill=\"none\" stroke=\"gray\" stroke-dasharray=\"5,2\" d=\"M564.55,-154.41C546.38,-141.78 516.62,-121.09 496.56,-107.14\"/>\n<ellipse fill=\"gray\" stroke=\"gray\" cx=\"493.19\" cy=\"-104.8\" rx=\"4\" ry=\"4\"/>\n</g>\n<!-- x_16 -->\n<g id=\"node17\" class=\"node\">\n<title>x_16</title>\n<ellipse fill=\"none\" stroke=\"black\" cx=\"264.5\" cy=\"-316.49\" rx=\"19.5\" ry=\"19.5\"/>\n<text text-anchor=\"middle\" x=\"264.5\" y=\"-312.79\" font-family=\"Times,serif\" font-size=\"14.00\">16</text>\n</g>\n<!-- x_16&#45;&gt;x_7 -->\n<g id=\"edge20\" class=\"edge\">\n<title>x_16&#45;&gt;x_7</title>\n<path fill=\"none\" stroke=\"gray\" stroke-dasharray=\"5,2\" d=\"M264.5,-296.69C264.5,-288.02 264.5,-277.6 264.5,-268.22\"/>\n<ellipse fill=\"gray\" stroke=\"gray\" cx=\"264.5\" cy=\"-263.97\" rx=\"4\" ry=\"4\"/>\n</g>\n<!-- x_17 -->\n<g id=\"node18\" class=\"node\">\n<title>x_17</title>\n<ellipse fill=\"none\" stroke=\"black\" cx=\"113.5\" cy=\"-316.49\" rx=\"19.5\" ry=\"19.5\"/>\n<text text-anchor=\"middle\" x=\"113.5\" y=\"-312.79\" font-family=\"Times,serif\" font-size=\"14.00\">17</text>\n</g>\n<!-- x_17&#45;&gt;x_4 -->\n<g id=\"edge21\" class=\"edge\">\n<title>x_17&#45;&gt;x_4</title>\n<path fill=\"none\" stroke=\"black\" d=\"M115.42,-296.86C119.48,-257.52 128.94,-165.8 133.68,-119.81\"/>\n<polygon fill=\"black\" stroke=\"black\" points=\"137.18,-119.99 134.73,-109.68 130.22,-119.27 137.18,-119.99\"/>\n</g>\n<!-- x_17&#45;&gt;x_7 -->\n<g id=\"edge22\" class=\"edge\">\n<title>x_17&#45;&gt;x_7</title>\n<path fill=\"none\" stroke=\"black\" d=\"M129.2,-304.88C133.44,-302.18 138.08,-299.37 142.5,-296.99 174.63,-279.69 213.35,-263.07 238.42,-252.83\"/>\n<polygon fill=\"black\" stroke=\"black\" points=\"239.99,-255.97 247.95,-248.97 237.37,-249.48 239.99,-255.97\"/>\n</g>\n<!-- x_18 -->\n<g id=\"node19\" class=\"node\">\n<title>x_18</title>\n<ellipse fill=\"none\" stroke=\"black\" cx=\"378.5\" cy=\"-316.49\" rx=\"19.5\" ry=\"19.5\"/>\n<text text-anchor=\"middle\" x=\"378.5\" y=\"-312.79\" font-family=\"Times,serif\" font-size=\"14.00\">18</text>\n</g>\n<!-- x_18&#45;&gt;x_5 -->\n<g id=\"edge23\" class=\"edge\">\n<title>x_18&#45;&gt;x_5</title>\n<path fill=\"none\" stroke=\"black\" d=\"M378.25,-296.9C378.62,-264.29 383.05,-195.62 411.5,-147 421.17,-130.46 437.75,-116.56 451.61,-106.93\"/>\n<polygon fill=\"black\" stroke=\"black\" points=\"453.81,-109.67 460.22,-101.24 449.95,-103.83 453.81,-109.67\"/>\n</g>\n<!-- x_18&#45;&gt;x_7 -->\n<g id=\"edge24\" class=\"edge\">\n<title>x_18&#45;&gt;x_7</title>\n<path fill=\"none\" stroke=\"black\" d=\"M362.16,-305.03C342.68,-292.56 309.98,-271.62 287.84,-257.44\"/>\n<polygon fill=\"black\" stroke=\"black\" points=\"289.66,-254.45 279.35,-252 285.88,-260.34 289.66,-254.45\"/>\n</g>\n<!-- x_19 -->\n<g id=\"node20\" class=\"node\">\n<title>x_19</title>\n<ellipse fill=\"none\" stroke=\"black\" cx=\"191.5\" cy=\"-91.5\" rx=\"19.5\" ry=\"19.5\"/>\n<text text-anchor=\"middle\" x=\"191.5\" y=\"-87.8\" font-family=\"Times,serif\" font-size=\"14.00\">19</text>\n</g>\n<!-- x_19&#45;&gt;x_1 -->\n<g id=\"edge25\" class=\"edge\">\n<title>x_19&#45;&gt;x_1</title>\n<path fill=\"none\" stroke=\"gray\" stroke-dasharray=\"5,2\" d=\"M184.82,-72.82C181.37,-63.69 177.12,-52.41 173.39,-42.55\"/>\n<ellipse fill=\"gray\" stroke=\"gray\" cx=\"171.96\" cy=\"-38.75\" rx=\"4\" ry=\"4\"/>\n</g>\n<!-- x_20 -->\n<g id=\"node21\" class=\"node\">\n<title>x_20</title>\n<ellipse fill=\"none\" stroke=\"black\" cx=\"530.5\" cy=\"-91.5\" rx=\"19.5\" ry=\"19.5\"/>\n<text text-anchor=\"middle\" x=\"530.5\" y=\"-87.8\" font-family=\"Times,serif\" font-size=\"14.00\">20</text>\n</g>\n<!-- x_20&#45;&gt;x_2 -->\n<g id=\"edge26\" class=\"edge\">\n<title>x_20&#45;&gt;x_2</title>\n<path fill=\"none\" stroke=\"gray\" stroke-dasharray=\"5,2\" d=\"M523.72,-73.19C520.14,-64.06 515.7,-52.72 511.81,-42.77\"/>\n<ellipse fill=\"gray\" stroke=\"gray\" cx=\"510.29\" cy=\"-38.89\" rx=\"4\" ry=\"4\"/>\n</g>\n<!-- x_21 -->\n<g id=\"node22\" class=\"node\">\n<title>x_21</title>\n<ellipse fill=\"none\" stroke=\"black\" cx=\"222.5\" cy=\"-391.48\" rx=\"19.5\" ry=\"19.5\"/>\n<text text-anchor=\"middle\" x=\"222.5\" y=\"-387.78\" font-family=\"Times,serif\" font-size=\"14.00\">21</text>\n</g>\n<!-- x_21&#45;&gt;x_7 -->\n<g id=\"edge27\" class=\"edge\">\n<title>x_21&#45;&gt;x_7</title>\n<path fill=\"none\" stroke=\"black\" d=\"M223.5,-371.81C224.95,-352.64 228.4,-322.14 236.5,-296.99 239.92,-286.36 245.25,-275.28 250.34,-265.91\"/>\n<polygon fill=\"black\" stroke=\"black\" points=\"253.4,-267.62 255.27,-257.19 247.3,-264.17 253.4,-267.62\"/>\n</g>\n<!-- x_22 -->\n<g id=\"node23\" class=\"node\">\n<title>x_22</title>\n<ellipse fill=\"none\" stroke=\"black\" cx=\"170.5\" cy=\"-316.49\" rx=\"19.5\" ry=\"19.5\"/>\n<text text-anchor=\"middle\" x=\"170.5\" y=\"-312.79\" font-family=\"Times,serif\" font-size=\"14.00\">22</text>\n</g>\n<!-- x_22&#45;&gt;x_7 -->\n<g id=\"edge28\" class=\"edge\">\n<title>x_22&#45;&gt;x_7</title>\n<path fill=\"none\" stroke=\"black\" d=\"M185.6,-303.76C201.03,-291.78 225.15,-273.05 242.66,-259.45\"/>\n<polygon fill=\"black\" stroke=\"black\" points=\"244.91,-262.14 250.66,-253.24 240.61,-256.61 244.91,-262.14\"/>\n</g>\n<!-- x_23 -->\n<g id=\"node24\" class=\"node\">\n<title>x_23</title>\n<ellipse fill=\"none\" stroke=\"black\" cx=\"102.5\" cy=\"-391.48\" rx=\"19.5\" ry=\"19.5\"/>\n<text text-anchor=\"middle\" x=\"102.5\" y=\"-387.78\" font-family=\"Times,serif\" font-size=\"14.00\">23</text>\n</g>\n<!-- x_23&#45;&gt;x_4 -->\n<g id=\"edge29\" class=\"edge\">\n<title>x_23&#45;&gt;x_4</title>\n<path fill=\"none\" stroke=\"black\" d=\"M95.61,-373.13C91.79,-362.58 87.44,-348.72 85.5,-335.99 82.89,-318.85 83.39,-314.19 85.5,-296.99 93.53,-231.59 115.5,-157.02 127.82,-118.54\"/>\n<polygon fill=\"black\" stroke=\"black\" points=\"131.26,-119.27 131.02,-108.68 124.6,-117.11 131.26,-119.27\"/>\n</g>\n<!-- x_23&#45;&gt;x_22 -->\n<g id=\"edge30\" class=\"edge\">\n<title>x_23&#45;&gt;x_22</title>\n<path fill=\"none\" stroke=\"black\" d=\"M115.29,-376.75C125.14,-366.18 138.93,-351.37 150.27,-339.2\"/>\n<polygon fill=\"black\" stroke=\"black\" points=\"153.05,-341.36 157.3,-331.65 147.92,-336.59 153.05,-341.36\"/>\n</g>\n<!-- x_24 -->\n<g id=\"node25\" class=\"node\">\n<title>x_24</title>\n<ellipse fill=\"none\" stroke=\"black\" cx=\"165.5\" cy=\"-391.48\" rx=\"19.5\" ry=\"19.5\"/>\n<text text-anchor=\"middle\" x=\"165.5\" y=\"-387.78\" font-family=\"Times,serif\" font-size=\"14.00\">24</text>\n</g>\n<!-- x_24&#45;&gt;x_5 -->\n<g id=\"edge31\" class=\"edge\">\n<title>x_24&#45;&gt;x_5</title>\n<path fill=\"none\" stroke=\"black\" d=\"M180.84,-379.1C185.09,-376.4 189.82,-373.79 194.5,-371.99 283.67,-337.6 337.91,-402.54 406.5,-335.99 467.99,-276.33 414.49,-227.25 444.5,-147 448.56,-136.14 454.61,-124.88 460.28,-115.44\"/>\n<polygon fill=\"black\" stroke=\"black\" points=\"463.42,-117.02 465.75,-106.68 457.49,-113.31 463.42,-117.02\"/>\n</g>\n<!-- x_24&#45;&gt;x_22 -->\n<g id=\"edge32\" class=\"edge\">\n<title>x_24&#45;&gt;x_22</title>\n<path fill=\"none\" stroke=\"black\" d=\"M166.79,-371.69C167.32,-363.88 167.95,-354.64 168.54,-346.03\"/>\n<polygon fill=\"black\" stroke=\"black\" points=\"172.04,-346.19 169.23,-335.97 165.06,-345.71 172.04,-346.19\"/>\n</g>\n<!-- x_25 -->\n<g id=\"node26\" class=\"node\">\n<title>x_25</title>\n<ellipse fill=\"none\" stroke=\"black\" cx=\"364.5\" cy=\"-391.48\" rx=\"19.5\" ry=\"19.5\"/>\n<text text-anchor=\"middle\" x=\"364.5\" y=\"-387.78\" font-family=\"Times,serif\" font-size=\"14.00\">25</text>\n</g>\n<!-- x_25&#45;&gt;x_3 -->\n<g id=\"edge33\" class=\"edge\">\n<title>x_25&#45;&gt;x_3</title>\n<path fill=\"none\" stroke=\"black\" d=\"M382.09,-382.58C399.54,-373.78 425.62,-357.87 439.5,-335.99 467.24,-292.23 472.05,-230.12 472.29,-194.81\"/>\n<polygon fill=\"black\" stroke=\"black\" points=\"475.79,-194.75 472.24,-184.77 468.79,-194.79 475.79,-194.75\"/>\n</g>\n<!-- x_25&#45;&gt;x_22 -->\n<g id=\"edge34\" class=\"edge\">\n<title>x_25&#45;&gt;x_22</title>\n<path fill=\"none\" stroke=\"black\" d=\"M346.59,-383.75C312.61,-370.96 238.55,-343.09 198.14,-327.89\"/>\n<polygon fill=\"black\" stroke=\"black\" points=\"199.23,-324.56 188.64,-324.31 196.77,-331.11 199.23,-324.56\"/>\n</g>\n<!-- x_26 -->\n<g id=\"node27\" class=\"node\">\n<title>x_26</title>\n<ellipse fill=\"none\" stroke=\"black\" cx=\"32.5\" cy=\"-391.48\" rx=\"19.5\" ry=\"19.5\"/>\n<text text-anchor=\"middle\" x=\"32.5\" y=\"-387.78\" font-family=\"Times,serif\" font-size=\"14.00\">26</text>\n</g>\n<!-- x_26&#45;&gt;x_0 -->\n<g id=\"edge35\" class=\"edge\">\n<title>x_26&#45;&gt;x_0</title>\n<path fill=\"none\" stroke=\"black\" d=\"M29.47,-372.06C28.11,-363.81 26.48,-353.9 24.99,-344.8\"/>\n<polygon fill=\"black\" stroke=\"black\" points=\"28.4,-343.95 23.32,-334.65 21.49,-345.08 28.4,-343.95\"/>\n</g>\n<!-- x_26&#45;&gt;x_22 -->\n<g id=\"edge36\" class=\"edge\">\n<title>x_26&#45;&gt;x_22</title>\n<path fill=\"none\" stroke=\"black\" d=\"M50.16,-382.35C71.96,-372.15 110.03,-353.83 141.5,-335.99 143,-335.14 144.53,-334.24 146.06,-333.33\"/>\n<polygon fill=\"black\" stroke=\"black\" points=\"148.06,-336.2 154.73,-327.97 144.38,-330.25 148.06,-336.2\"/>\n</g>\n</g>\n</svg>\n",
            "text/plain": [
              "<graphviz.sources.Source at 0x7c1bc68db150>"
            ]
          },
          "metadata": {},
          "execution_count": 20
        }
      ]
    },
    {
      "cell_type": "markdown",
      "source": [
        "Below are the **equations** for the **ssst_hgf_control_decision_model**. Each equation corresponds to the relationships and influences defined in the model's structure.  \n",
        "\n",
        "---\n",
        "\n",
        "### **1. Accuracy (Node 0)**  \n",
        "This binary node represents whether a trial response was correct $ (x_0 = 1) $ or incorrect $ (x_0 = 0) $.  \n",
        "\n",
        "$  \n",
        "x_0 \\sim \\text{Bernoulli}(p_0)  \n",
        "$  \n",
        "\n",
        "Where $ p_0 $ is the probability of a correct response, which depends on **control execution**.  \n",
        "\n",
        "---\n",
        "\n",
        "### **2. Latent Resource Availability (Node 4)**  \n",
        "This represents cognitive resources available for control allocation.  \n",
        "\n",
        "$  \n",
        "x_4 = f(x_{4,t-1}) + \\beta_1 x_3 + \\epsilon_4  \n",
        "$  \n",
        "\n",
        "Where:  \n",
        "- $ x_{4,t-1} $ is the prior resource availability.  \n",
        "- $ x_3 $ (Trial Type) influences resources.  \n",
        "- $ \\beta_1 $ is the trial type influence weight.  \n",
        "- $ \\epsilon_4 \\sim \\mathcal{N}(0, \\sigma_4^2) $ is noise.  \n",
        "\n",
        "---\n",
        "\n",
        "### **3. Latent Cognitive Load (Node 5)**  \n",
        "Cognitive load dynamically updates based on prior load and trial type.  \n",
        "\n",
        "$  \n",
        "x_5 = f(x_{5,t-1}) + \\beta_2 x_3 + \\epsilon_5  \n",
        "$  \n",
        "\n",
        "Where:  \n",
        "- $ x_{5,t-1} $ is prior cognitive load.  \n",
        "- $ x_3 $ (Trial Type) influences cognitive load.  \n",
        "- $ \\beta_2 $ is the trial type influence weight.  \n",
        "- $ \\epsilon_5 \\sim \\mathcal{N}(0, \\sigma_5^2) $ is noise.  \n",
        "\n",
        "---\n",
        "\n",
        "### **4. Information Accumulation (Node 6)**  \n",
        "Before deciding to allocate control, information is accumulated from resource availability and cognitive load.  \n",
        "\n",
        "$  \n",
        "x_6 = g(x_4, x_5) + \\epsilon_6  \n",
        "$  \n",
        "\n",
        "Where $ g(x_4, x_5) $ is a function integrating **resource availability and cognitive load**.  \n",
        "\n",
        "---\n",
        "\n",
        "### **5. Decision to Allocate Control (Node 7)**  \n",
        "The decision to allocate control is based on information accumulation and trial type.  \n",
        "\n",
        "$  \n",
        "x_7 = h(x_6, x_3) + \\epsilon_7  \n",
        "$  \n",
        "\n",
        "Where:  \n",
        "- $ x_6 $ (Information Accumulation) influences the control decision.  \n",
        "- $ x_3 $ (Trial Type) modulates decision-making.  \n",
        "- $ \\epsilon_7 \\sim \\mathcal{N}(0, \\sigma_7^2) $ represents **decision uncertainty**.  \n",
        "\n",
        "---\n",
        "\n",
        "### **6. Prior Resource and Load Effects**  \n",
        "Cognitive resource availability and load update autoregressively.  \n",
        "\n",
        "$  \n",
        "x_{4,t} = \\alpha_4 x_{4,t-1} + \\eta_4  \n",
        "$  \n",
        "\n",
        "$  \n",
        "x_{5,t} = \\alpha_5 x_{5,t-1} + \\eta_5  \n",
        "$  \n",
        "\n",
        "Where:  \n",
        "- $ \\alpha_4, \\alpha_5 $ are memory effect parameters.  \n",
        "- $ \\eta_4, \\eta_5 \\sim \\mathcal{N}(0, \\sigma^2) $ are noise terms.  \n",
        "\n",
        "---\n",
        "\n",
        "### **7. Trial Type Influence on Control Decision**  \n",
        "Trial type modulates control decision updates.  \n",
        "\n",
        "$  \n",
        "x_{7,t} = \\alpha_7 x_{7,t-1} + \\beta_3 x_3 + \\eta_7  \n",
        "$  \n",
        "\n",
        "Where:  \n",
        "- $ \\alpha_7 $ is the **prior control decision influence**.  \n",
        "- $ \\beta_3 $ is the weight of **trial type influence**.  \n",
        "- $ \\eta_7 $ is noise.  \n",
        "\n",
        "---\n",
        "\n",
        "### **8. Control Execution (Node 22)**  \n",
        "The success of control allocation depends on resource availability, cognitive load, and trial type.  \n",
        "\n",
        "$  \n",
        "x_{22} = k(x_7) + \\gamma_1 x_4 + \\gamma_2 x_5 + \\gamma_3 x_3 + \\epsilon_{22}  \n",
        "$  \n",
        "\n",
        "Where:  \n",
        "- $ k(x_7) $ maps **control decision** to execution outcome.  \n",
        "- $ \\gamma_1, \\gamma_2, \\gamma_3 $ are weights for **resource availability, cognitive load, and trial type influence**.  \n",
        "\n",
        "---\n",
        "\n",
        "### **9. Control Execution and Accuracy**  \n",
        "Accuracy depends on control execution.  \n",
        "\n",
        "$  \n",
        "x_0 = \\sigma(x_{22})  \n",
        "$  \n",
        "\n",
        "Where $ \\sigma(x_{22}) $ is a **sigmoid function** mapping control execution to accuracy.  \n",
        "\n",
        "---\n",
        "\n",
        "### **10. Volatility Terms**  \n",
        "Dynamic uncertainty in cognitive load, resource availability, and decision-making.  \n",
        "\n",
        "$  \n",
        "v_4 = g_v(x_4) + \\epsilon_{v4}  \n",
        "$  \n",
        "\n",
        "$  \n",
        "v_5 = g_v(x_5) + \\epsilon_{v5}  \n",
        "$  \n",
        "\n",
        "$  \n",
        "v_7 = g_v(x_7) + \\epsilon_{v7}  \n",
        "$  \n",
        "\n",
        "Where:  \n",
        "- $ g_v(x) $ models **volatility dynamics** for each latent variable.  \n",
        "- $ \\epsilon_v $ are Gaussian noise terms.  \n",
        "\n",
        "---\n",
        "\n",
        "### **Summary of Nodes and Equations**  \n",
        "\n",
        "| **Node**        | **Description**                                                  | **Equation** |\n",
        "|-----------------|------------------------------------------------------------------|-------------|\n",
        "| **Node 0** $ x_0 $ | Accuracy (Correct/Incorrect)                              | $ x_0 = \\sigma(x_{22}) $ |\n",
        "| **Node 4** $ x_4 $ | Latent Resource Availability                             | $ x_4 = f(x_{4,t-1}) + \\beta_1 x_3 + \\epsilon_4 $ |\n",
        "| **Node 5** $ x_5 $ | Latent Cognitive Load                                    | $ x_5 = f(x_{5,t-1}) + \\beta_2 x_3 + \\epsilon_5 $ |\n",
        "| **Node 6** $ x_6 $ | Information Accumulation                                 | $ x_6 = g(x_4, x_5) + \\epsilon_6 $ |\n",
        "| **Node 7** $ x_7 $ | Decision to Allocate Control                             | $ x_7 = h(x_6, x_3) + \\epsilon_7 $ |\n",
        "| **Node 22** $ x_{22} $ | Control Execution                                   | $ x_{22} = k(x_7) + \\gamma_1 x_4 + \\gamma_2 x_5 + \\gamma_3 x_3 + \\epsilon_{22} $ |\n",
        "| **Volatility Nodes** | Uncertainty in latent variables                          | $ v_i = g_v(x_i) + \\epsilon_{vi} $ |\n",
        "\n",
        "---\n",
        "\n",
        "### **Interpretation of Key Nodes**  \n",
        "#### **1. Latent Resource Availability (Node 4)**  \n",
        "- **High**: More cognitive resources available → increased control allocation.  \n",
        "- **Low**: Fewer resources → lower likelihood of control engagement.  \n",
        "\n",
        "#### **2. Latent Cognitive Load (Node 5)**  \n",
        "- **High**: Increased cognitive burden → harder to allocate control.  \n",
        "- **Low**: Lower load → more efficient control allocation.  \n",
        "\n",
        "#### **3. Information Accumulation (Node 6)**  \n",
        "- **High**: Strong accumulation → clear decision to allocate control.  \n",
        "- **Low**: Insufficient evidence → hesitation in control decisions.  \n",
        "\n",
        "#### **4. Decision to Allocate Control (Node 7)**  \n",
        "- **High**: Likely to engage cognitive resources for control.  \n",
        "- **Low**: Control disengagement or failure to activate control.  \n",
        "\n",
        "#### **5. Control Execution (Node 22)**  \n",
        "- **High**: Effective engagement of control → increased accuracy.  \n",
        "- **Low**: Control failure → decreased accuracy.  \n",
        "\n",
        "#### **6. Accuracy (Node 0)**  \n",
        "- **High (1.0)**: Successful control execution.  \n",
        "- **Low (0.0)**: Control failure.  \n",
        "\n",
        "---\n",
        "\n",
        "### **Key Takeaways**  \n",
        "✅ **Resource availability and cognitive load dynamically influence control decisions.**  \n",
        "✅ **Trial type shapes decision-making and control allocation.**  \n",
        "✅ **Control execution determines final accuracy.**  \n"
      ],
      "metadata": {
        "id": "Hcb9cvmoOUkg"
      },
      "id": "Hcb9cvmoOUkg"
    },
    {
      "cell_type": "code",
      "source": [],
      "metadata": {
        "id": "RvpFct-eGHkM"
      },
      "id": "RvpFct-eGHkM",
      "execution_count": null,
      "outputs": []
    },
    {
      "cell_type": "code",
      "source": [],
      "metadata": {
        "id": "pQWJH8QF6TDG"
      },
      "id": "pQWJH8QF6TDG",
      "execution_count": null,
      "outputs": []
    }
  ],
  "metadata": {
    "kernelspec": {
      "display_name": "Python 3 (ipykernel)",
      "language": "python",
      "name": "python3"
    },
    "language_info": {
      "codemirror_mode": {
        "name": "ipython",
        "version": 3
      },
      "file_extension": ".py",
      "mimetype": "text/x-python",
      "name": "python",
      "nbconvert_exporter": "python",
      "pygments_lexer": "ipython3",
      "version": "3.12.3"
    },
    "colab": {
      "provenance": [],
      "include_colab_link": true
    }
  },
  "nbformat": 4,
  "nbformat_minor": 5
}